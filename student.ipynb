{
 "cells": [
  {
   "cell_type": "code",
   "execution_count": 1,
   "metadata": {},
   "outputs": [],
   "source": [
    "from threading import Thread\n",
    "import json\n",
    "from stmpy import Machine, Driver\n",
    "import paho.mqtt.client as mqtt\n",
    "from utils import BROKER, PORT, TOPIC, join_TOPIC, help_TOPIC, queue_TOPIC, update_topic\n",
    "\n",
    "\n",
    "\n",
    "# TODO: fikse casen hvor man starter lab session ved exit fra wait state når du får feil kode\n",
    "\n",
    "class MQTT_Client_1:\n",
    "    def __init__(self, stm):\n",
    "        self.state_machine = stm\n",
    "        self.count = 0\n",
    "        self.client = mqtt.Client()\n",
    "        self.client.on_connect = self.on_connect\n",
    "        self.client.on_message = self.on_message\n",
    "        self.stm_driver: Driver = None\n",
    "\n",
    "    def on_connect(self, client, userdata, flags, rc):\n",
    "        print(\"on_connect(): {}\".format(mqtt.connack_string(rc)))\n",
    "\n",
    "        \n",
    "    def on_message(self, client, userdata, msg):\n",
    "        try:\n",
    "            message = json.loads(msg.payload.decode('utf-8'))[\"msg\"]\n",
    "        except json.decoder.JSONDecodeError:\n",
    "            return\n",
    "                    \n",
    "        print(\"on_message(): topic: {}\".format(msg.topic))\n",
    "        print(msg.topic)\n",
    "        if message == \"Valid code\" and msg.topic == join_TOPIC:\n",
    "            self.stm_driver.send(\"correct_code\", \"student\")\n",
    "\n",
    "        elif message == \"Invalid code\" and msg.topic == join_TOPIC:\n",
    "            print(\"Feil kode\")\n",
    "            self.stm_driver.send(\"wrong_code\", \"student\")\n",
    "\n",
    "\n",
    "\n",
    "        \n",
    "\n",
    "    \n",
    "        \n",
    "    def start(self, broker, port):\n",
    "        print(\"Connecting to {}:{}\".format(broker, port))\n",
    "        self.client.connect(broker, port)\n",
    "        self.client.subscribe(TOPIC)\n",
    "        self.client.subscribe(join_TOPIC)\n",
    "\n",
    "        try:\n",
    "            thread = Thread(target=self.client.loop_forever)\n",
    "            thread.start()\n",
    "        except KeyboardInterrupt:\n",
    "            print(\"Interrupted\")\n",
    "            self.client.disconnect()"
   ]
  },
  {
   "cell_type": "code",
   "execution_count": 2,
   "metadata": {},
   "outputs": [
    {
     "name": "stdout",
     "output_type": "stream",
     "text": [
      "Requirement already satisfied: paho-mqtt in /Library/Frameworks/Python.framework/Versions/3.9/lib/python3.9/site-packages (1.6.1)\n",
      "\u001b[33mWARNING: You are using pip version 22.0.4; however, version 23.1 is available.\n",
      "You should consider upgrading via the '/Library/Frameworks/Python.framework/Versions/3.9/bin/python3.9 -m pip install --upgrade pip' command.\u001b[0m\u001b[33m\n",
      "\u001b[0m"
     ]
    }
   ],
   "source": [
    "!pip3 install paho-mqtt\n",
    "from stmpy import Driver, Machine\n",
    "from threading import Thread\n",
    "import paho.mqtt.client as mqtt\n",
    "import json\n",
    "from stmpy import Machine, Driver\n",
    "import ipywidgets as widgets\n",
    "from IPython.display import display\n",
    "import random\n",
    "import sys\n",
    "\n",
    "#NOTES:\n",
    "## Håndtere i server som mottar join-koder at den enten sender trigger: riktig kode, eller trigger: feil kode, \n",
    "# utifra det så vet vi hvilken state vi skal tils\n",
    "#Hver eneste student må ha en slags kode/gruppenavn\n",
    "\n",
    "\n",
    "class Student:\n",
    "      def __init__(self):\n",
    "            self.button_create = widgets.Button(description=\"Join Session\")\n",
    "            self.button_create.on_click(self.on_button_join)\n",
    "            \n",
    "            self.mqtt_client: mqtt.Client = None\n",
    "            self.stm: Machine = None\n",
    "            self.question = 1\n",
    "            # MIDLERTIDIG\n",
    "            self.total_questions = 5\n",
    "            # text field\n",
    "            self.stu_code = widgets.Text(value='', placeholder='', description='student code:', disabled=False)\n",
    "            print(self.stu_code.value)\n",
    "            display(self.button_create, self.stu_code)\n",
    "            \n",
    "            self.group_name = widgets.Text(value='', placeholder='', description='Group name:', disabled=False)\n",
    "            display(self.button_create, self.group_name)\n",
    "            display()\n",
    "\n",
    "      def on_wait(self):\n",
    "            \"\"\"TODO\"\"\"\n",
    "\n",
    "\n",
    "      \n",
    "      def ask_help(self):\n",
    "\n",
    "            question_for_server_use = \"self.group_name +  + self.question\"\n",
    "\n",
    "            dictMessage = {\"msg\": {  \"question\": self.question, \"group_name\": self.group_name.value}}\n",
    "            jsonMessage = json.dumps(dictMessage)\n",
    "            self.mqtt_client.publish(help_TOPIC, jsonMessage) \n",
    "\n",
    "      def finish_task(self):\n",
    "            param = \"self.group_name + self.question\"\n",
    "            dictMessage = {\"msg\": {  \"question\": self.question, \"group_name\": self.group_name.value}}\n",
    "            jsonMessage = json.dumps(dictMessage)\n",
    "            self.mqtt_client.publish(update_topic, jsonMessage)\n",
    "            self.question += 1\n",
    "            self.progress_bar.value += 1    \n",
    "\n",
    "      def publish(self):\n",
    "            print(self.stu_code)\n",
    "            code = self.stu_code.value\n",
    "            group_name = self.group_name.value\n",
    "\n",
    "            dictMessage = {\"msg\": {  \"code\": code, \"group_name\": group_name}}\n",
    "            jsonMessage = json.dumps(dictMessage)\n",
    "            print(jsonMessage)\n",
    "\n",
    "            self.mqtt_client.publish(join_TOPIC ,jsonMessage)\n",
    "            self.stu_code.value = \"Loading\"\n",
    "      \n",
    "      def setup_lab(self):\n",
    "            self.button_help = widgets.Button(description=\"Get help\")\n",
    "            self.button_help.on_click(self.on_button_ask_help)\n",
    "            display(self.button_help)\n",
    "            self.button_finish_task = widgets.Button(description=\"Finish task\")\n",
    "            self.button_finish_task.on_click(self.on_button_finish_task)\n",
    "            display(self.button_finish_task)\n",
    "            self.progress_bar = widgets.IntProgress(min = 0, max = self.total_questions, description = \"Progress\")\n",
    "            #self.progress_bar.value(self.question)\n",
    "            display(self.progress_bar)\n",
    "            pass\n",
    "\n",
    "      def save_text(self):\n",
    "           self.code = self.stu_code\n",
    "           \n",
    "\n",
    "      def on_button_join(self, session_code_stu):\n",
    "        self.stm.send('join') # <---- here we send a message\n",
    "        print(self.stm.state)\n",
    "        pass\n",
    "  \n",
    "      def on_button_finish_task(self, session_code_stu):\n",
    "            self.stm.send('finish_task')\n",
    "            pass\n",
    "      \n",
    "      def on_button_ask_help(self, session_code_stu):\n",
    "            self.stm.send('ask_help')\n",
    "            pass\n",
    "# initial transition\n",
    "t0 = {'source': 'initial',\n",
    "      'target': 'idle'}\n",
    "\n",
    "# transitions\n",
    "\n",
    "#t1 and t2 are transitions from idle to wait and back\n",
    "t1 = {'trigger':'join', \n",
    "      'source':'idle', \n",
    "      'target':'wait'}\n",
    "\n",
    "\n",
    "t2 = {'trigger':'wrong_code', \n",
    "      'source':'wait', \n",
    "      'target':'idle'}\n",
    "\n",
    "\n",
    "t3 = {'trigger':'correct_code', \n",
    "      'source':'wait', \n",
    "      'target':'lab_session_active'}\n",
    "\n",
    "\n",
    "t4 = {'trigger':'ask_help', \n",
    "      'source':'lab_session_active', \n",
    "      'target':'lab_session_active',\n",
    "      'effect': 'ask_help' }\n",
    "\n",
    "t5 = {'trigger':'leave_queue', \n",
    "      'source':'lab_session_active', \n",
    "      'target':'lab_session_active',\n",
    "      'effect': 'leave_queue'}\n",
    "\n",
    "t6 = {'trigger':'finish_task', \n",
    "      'source':'lab_session_active', \n",
    "      'target':'lab_session_active',\n",
    "      'effect': 'finish_task'}\n",
    "\n",
    "#Trengs ikke siden det skjer automatisk når man ber om hjelp\n",
    "# t7 = {'trigger':'queue_request', \n",
    "#       'source':'lab_session_active', \n",
    "#       'target':'lab_session_active',\n",
    "#       }\n",
    "\n",
    "\n",
    "t8 = {'trigger':'leave_lab', \n",
    "      'source':'lab_session_active', \n",
    "      'target':'exit'}\n",
    "\n",
    "\n",
    "\n",
    "\n",
    "# the states:\n",
    "idle = {'name': 'idle'}\n",
    "\n",
    "wait = {'name': 'wait',\n",
    "        'entry': 'publish',\n",
    "        'exit': 'setup_lab'}\n",
    "#TODO move setup_lab to right place\n",
    "\n",
    "lab_session_active = {'name': 'lab_session_active'}\n",
    "\n",
    "    "
   ]
  },
  {
   "cell_type": "code",
   "execution_count": null,
   "metadata": {},
   "outputs": [
    {
     "name": "stdout",
     "output_type": "stream",
     "text": [
      "\n"
     ]
    },
    {
     "data": {
      "application/vnd.jupyter.widget-view+json": {
       "model_id": "5a3a4eb7e7cf4223af8b804166244ace",
       "version_major": 2,
       "version_minor": 0
      },
      "text/plain": [
       "Button(description='Join Session', style=ButtonStyle())"
      ]
     },
     "metadata": {},
     "output_type": "display_data"
    },
    {
     "data": {
      "application/vnd.jupyter.widget-view+json": {
       "model_id": "e93a0810d9cd472393f4cd40729b9e29",
       "version_major": 2,
       "version_minor": 0
      },
      "text/plain": [
       "Text(value='', description='student code:', placeholder='')"
      ]
     },
     "metadata": {},
     "output_type": "display_data"
    },
    {
     "data": {
      "application/vnd.jupyter.widget-view+json": {
       "model_id": "5a3a4eb7e7cf4223af8b804166244ace",
       "version_major": 2,
       "version_minor": 0
      },
      "text/plain": [
       "Button(description='Join Session', style=ButtonStyle())"
      ]
     },
     "metadata": {},
     "output_type": "display_data"
    },
    {
     "data": {
      "application/vnd.jupyter.widget-view+json": {
       "model_id": "b47f72338ca14fe0b8bb68aac7f9990c",
       "version_major": 2,
       "version_minor": 0
      },
      "text/plain": [
       "Text(value='', description='Group name:', placeholder='')"
      ]
     },
     "metadata": {},
     "output_type": "display_data"
    },
    {
     "name": "stdout",
     "output_type": "stream",
     "text": [
      "Connecting to mqtt20.iik.ntnu.no:1883\n"
     ]
    },
    {
     "name": "stdout",
     "output_type": "stream",
     "text": [
      "on_connect(): Connection Accepted.\n",
      "idle\n",
      "Text(value='fw', description='student code:', placeholder='')\n",
      "{\"msg\": {\"code\": \"fw\", \"group_name\": \"fdsa\"}}\n",
      "on_message(): topic: join\n",
      "join\n",
      "on_message(): topic: join\n",
      "join\n"
     ]
    },
    {
     "data": {
      "application/vnd.jupyter.widget-view+json": {
       "model_id": "b1a21061810c44e3a2c77a7661146bff",
       "version_major": 2,
       "version_minor": 0
      },
      "text/plain": [
       "Button(description='Get help', style=ButtonStyle())"
      ]
     },
     "metadata": {},
     "output_type": "display_data"
    },
    {
     "data": {
      "application/vnd.jupyter.widget-view+json": {
       "model_id": "9e477bb470c44803ac62c73663e2144d",
       "version_major": 2,
       "version_minor": 0
      },
      "text/plain": [
       "Button(description='Finish task', style=ButtonStyle())"
      ]
     },
     "metadata": {},
     "output_type": "display_data"
    },
    {
     "data": {
      "application/vnd.jupyter.widget-view+json": {
       "model_id": "e293c04b3c984bc085757d4befa56088",
       "version_major": 2,
       "version_minor": 0
      },
      "text/plain": [
       "IntProgress(value=0, description='Progress', max=5)"
      ]
     },
     "metadata": {},
     "output_type": "display_data"
    }
   ],
   "source": [
    "student = Student()\n",
    "state_machine = Machine(transitions=[t0, t1, t2, t3, t4, t5, t6, t8], states=[idle, wait, lab_session_active], obj=student, name=\"student\")\n",
    "student.stm = state_machine\n",
    "\n",
    "driver = Driver()\n",
    "driver.add_machine(state_machine)\n",
    "\n",
    "myclient = MQTT_Client_1(student)\n",
    "student.mqtt_client = myclient.client\n",
    "myclient.stm_driver = driver\n",
    "\n",
    "driver.start()\n",
    "myclient.start(BROKER, PORT)"
   ]
  }
 ],
 "metadata": {
  "kernelspec": {
   "display_name": "Python 3",
   "language": "python",
   "name": "python3"
  },
  "language_info": {
   "codemirror_mode": {
    "name": "ipython",
    "version": 3
   },
   "file_extension": ".py",
   "mimetype": "text/x-python",
   "name": "python",
   "nbconvert_exporter": "python",
   "pygments_lexer": "ipython3",
   "version": "3.9.13"
  },
  "orig_nbformat": 4
 },
 "nbformat": 4,
 "nbformat_minor": 2
}
