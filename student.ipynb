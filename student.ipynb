{
 "cells": [
  {
   "cell_type": "code",
   "execution_count": 1,
   "metadata": {},
   "outputs": [],
   "source": [
    "from threading import Thread\n",
    "import json\n",
    "from stmpy import Machine, Driver\n",
    "import paho.mqtt.client as mqtt\n",
    "from utils import BROKER, PORT, TOPIC, JOIN_TOPIC, QUEUE_TOPIC, HELP_TOPIC, UPDATE_TOPIC \n",
    "\n",
    "\n",
    "class MQTT_Client_1:\n",
    "    def __init__(self, stm):\n",
    "        self.state_machine = stm\n",
    "        self.count = 0\n",
    "        self.client = mqtt.Client()\n",
    "        self.client.on_connect = self.on_connect\n",
    "        self.client.on_message = self.on_message\n",
    "        self.stm_driver: Driver = None\n",
    "        self.session_id = \"\"\n",
    "\n",
    "    def on_connect(self, client, userdata, flags, rc):\n",
    "        print(\"on_connect(): {}\".format(mqtt.connack_string(rc)))\n",
    "\n",
    "    def on_message(self, client, userdata, msg):\n",
    "        try:\n",
    "            \n",
    "            message: dict  = json.loads(msg.payload.decode('utf-8'))\n",
    "        except json.decoder.JSONDecodeError:\n",
    "            return\n",
    "    \n",
    "   \n",
    "        \n",
    "        #print(\"on_message(): topic: {}\".format(msg.topic))\n",
    "        \n",
    "        if msg.topic == (f\"{TOPIC}/{JOIN_TOPIC}\"):\n",
    "            if message['msg'] == \"session_joined\":\n",
    "                print(\"Correct code, session joined\")\n",
    "                self.stm_driver.send(\"correct_code\", \"student\")\n",
    "\n",
    "                #Unsubscribe from the JOIN TOPIC so other messages are'nt received\n",
    "\n",
    "                self.client.unsubscribe(f\"{TOPIC}/{JOIN_TOPIC}\")\n",
    "                print(\"Sucsessfully unsubscribed to: \"+ (f\"{TOPIC}/{JOIN_TOPIC}\"))\n",
    "                self.session_id = message['session_id']\n",
    "                \n",
    "\n",
    "                # Send the session_id to the student object\n",
    "                self.state_machine.session_id = message[\"session_id\"]\n",
    "                \n",
    "                #Subscribe to the session and the following topics:\n",
    "                #team02/session_id/HELP_TOPIC\n",
    "                #team02/session_id/UPDATE_TOPIC\n",
    "                self.client.subscribe(f\"{TOPIC}/{message['session_id']}/{HELP_TOPIC}\")\n",
    "                print(\"Sucsessfully subscribed to: \"+ (f\"{TOPIC}/{message['session_id']}/{HELP_TOPIC}\"))\n",
    "                \n",
    "                self.client.subscribe(f\"{TOPIC}/{message['session_id']}/{UPDATE_TOPIC}\")\n",
    "                print(\"Sucsessfully subscribed to: \"+ (f\"{TOPIC}/{message['session_id']}/{UPDATE_TOPIC}\"))\n",
    "                self.client.subscribe(f\"{TOPIC}/{self.session_id}/{QUEUE_TOPIC}\")\n",
    "            else:\n",
    "                \n",
    "                if message['msg'] == \"session_join_failed\":\n",
    "                    print(\"Incorrect code, try again\")\n",
    "                    self.stm_driver.send(\"wrong_code\", \"student\")\n",
    "                \n",
    "                                     \n",
    "\n",
    "        \"\"\" if msg.topic == (f\"{TOPIC}/{JOIN_TOPIC}\"):\n",
    "            if message['msg'] == \"session_join_failed\":\n",
    "                print(\"Incorrect code, try again\")\n",
    "                self.stm_driver.send(\"wrong_code\", \"student\")\"\"\"\n",
    "                \n",
    "                \n",
    "        if msg.topic == f\"{TOPIC}/{self.session_id}/{QUEUE_TOPIC}\":\n",
    "            print(\"Receiving queue, passing on to state machine\")\n",
    "            self.state_machine.queue_message = message['queue']\n",
    "            self.stm_driver.send(\"queue_request\", \"student\")\n",
    "            print(\"queue sent sucsessfully to state machine\")\n",
    "                    \n",
    "    def start(self, broker, port):\n",
    "        #Kobler til main topic og join topic og broker\n",
    "        print(\"Connectin to {}:{}\".format(broker, port))\n",
    "        self.client.connect(broker, port)\n",
    "        self.client.subscribe(TOPIC)\n",
    "        self.client.subscribe(f\"{TOPIC}/{JOIN_TOPIC}\")\n",
    "\n",
    "        try:\n",
    "            thread = Thread(target=self.client.loop_forever)\n",
    "            thread.start()\n",
    "        except KeyboardInterrupt:\n",
    "            print(\"Interrupted\")\n",
    "            self.client.disconnect()\n",
    "            \n",
    "            \n"
   ]
  },
  {
   "cell_type": "code",
   "execution_count": 2,
   "metadata": {},
   "outputs": [
    {
     "name": "stdout",
     "output_type": "stream",
     "text": [
      "Requirement already satisfied: paho-mqtt in /Library/Frameworks/Python.framework/Versions/3.9/lib/python3.9/site-packages (1.6.1)\n",
      "\u001b[33mWARNING: You are using pip version 22.0.4; however, version 23.1.1 is available.\n",
      "You should consider upgrading via the '/Library/Frameworks/Python.framework/Versions/3.9/bin/python3.9 -m pip install --upgrade pip' command.\u001b[0m\u001b[33m\n",
      "\u001b[0m"
     ]
    }
   ],
   "source": [
    "!pip3 install paho-mqtt\n",
    "from stmpy import Driver, Machine\n",
    "from threading import Thread\n",
    "import paho.mqtt.client as mqtt\n",
    "import json\n",
    "from stmpy import Machine, Driver\n",
    "import ipywidgets as widgets\n",
    "from IPython.display import display\n",
    "import random\n",
    "import sys\n",
    "\n",
    "#NOTES:\n",
    "## Håndtere i server som mottar join-koder at den enten sender trigger: riktig kode, eller trigger: feil kode, \n",
    "# utifra det så vet vi hvilken state vi skal tils\n",
    "#Hver eneste student må ha en slags kode/gruppenavn\n",
    "\n",
    "\n",
    "class Student:\n",
    "      def __init__(self):\n",
    "            self.button_create = widgets.Button(description=\"Join Session\")\n",
    "            self.button_create.on_click(self.on_button_join)\n",
    "            self.queue_message = []\n",
    "            self.session_id = \"\"\n",
    "            self.mqtt_client: mqtt.Client = None\n",
    "            self.stm: Machine = None\n",
    "            self.question = 1\n",
    "            # MIDLERTIDIG\n",
    "            self.total_questions = 5\n",
    "            \n",
    "            # text field\n",
    "            self.stu_code = widgets.Text(value='', placeholder='', description='student code:', disabled=False)\n",
    "            self.code = self.stu_code.value\n",
    "            display(self.button_create, self.stu_code)\n",
    "            \n",
    "            self.group_name_widget = widgets.Text(value='', placeholder='', description='Group name:', disabled=False)\n",
    "            \n",
    "            self.group_name = self.group_name_widget.value\n",
    "\n",
    "            display(self.button_create, self.group_name_widget)\n",
    "            display()\n",
    "\n",
    "      def on_wait(self):\n",
    "            \"\"\"TODO\"\"\"\n",
    "\n",
    "\n",
    "      \n",
    "      def ask_help(self):\n",
    "\n",
    "     \n",
    "            dictMessage = { \"msg\": \"request_help\", \"group_name\": self.group_name_widget.value, \"question\": self.question}\n",
    "            jsonMessage = json.dumps(dictMessage)\n",
    "            print(\"Asking for help\")\n",
    "            self.mqtt_client.publish(f\"{TOPIC}/{self.session_id}/{HELP_TOPIC}\", jsonMessage)\n",
    "            self.number_queue.value = \"Queuing\"\n",
    "\n",
    "      def finish_task(self):\n",
    "            print(f\"Finished with task {self.question}\")\n",
    "            dictMessage = {\"msg\": \"task_finished\", \"question\": self.question, \"group_name\": self.group_name_widget.value}\n",
    "            jsonMessage = json.dumps(dictMessage)\n",
    "            self.mqtt_client.publish(f\"{TOPIC}/{self.session_id}/{UPDATE_TOPIC}\", jsonMessage)\n",
    "            if self.question == self.total_questions:\n",
    "                   self.button_finish_task.disable = True\n",
    "            else: \n",
    "                  self.question += 1\n",
    "                  self.progress_bar.value += 1 \n",
    "                  self.button_task.value = self.question\n",
    "            \n",
    "            \n",
    "                  \n",
    "                     \n",
    "\n",
    "      def update_queue(self):\n",
    "            self.place = 1\n",
    "            if self.group_name_widget.value not in self.queue_message:\n",
    "                  self.number_queue.value = \"Not in queue\"\n",
    "            #ENABLE HELP\n",
    "            else:\n",
    "                  for i in self.queue_message:\n",
    "                        if i == self.group_name_widget.value:\n",
    "                              break\n",
    "                        else:\n",
    "                              self.place += 1  \n",
    "                  Sondre_idiot_confirmed = str(self.place)             \n",
    "                  self.number_queue.value = Sondre_idiot_confirmed\n",
    "            \n",
    "      \n",
    "      def publish(self):\n",
    "            \n",
    "            dictMessage = {\"msg\": \"join_session\",\"student_code\": self.stu_code.value, \"group_name\": self.group_name_widget.value}\n",
    "            jsonMessage = json.dumps(dictMessage)\n",
    "\n",
    "            self.mqtt_client.publish(f\"{TOPIC}/{JOIN_TOPIC}\" ,jsonMessage)\n",
    "            self.stu_code.value = \"Loading\"\n",
    "\n",
    "      def setup_lab(self):\n",
    "            print(\"Setting up lab...\")\n",
    "            self.button_task = widgets.IntText(value= self.question, placeholder='', description='Task', disabled=True)\n",
    "            display(self.button_task)\n",
    "            self.button_help = widgets.Button(description=\"Get help\")\n",
    "            self.button_help.on_click(self.on_button_ask_help)\n",
    "            display(self.button_help)\n",
    "            self.button_finish_task = widgets.Button(description=\"Finish task\")\n",
    "            self.button_finish_task.on_click(self.on_button_finish_task)\n",
    "            display(self.button_finish_task)\n",
    "            self.progress_bar = widgets.IntProgress(min = 1, max = self.total_questions, description = \"Progress\")\n",
    "            display(self.progress_bar)\n",
    "            self.button_leave = widgets.Button(description=\"Leave Session\")\n",
    "            self.button_leave.on_click(self.on_button_leave)\n",
    "            display(self.button_leave)\n",
    "            self.number_queue = widgets.Text(value=\"Not in queue\", placeholder='', description='Queue nr.', disabled=True)\n",
    "            display(self.number_queue)\n",
    "            print(\"Lab set up\")\n",
    "            \n",
    "            pass\n",
    "\n",
    "      def wrong_code(self):\n",
    "            self.button_create = widgets.Button(description=\"Join Session\")\n",
    "            self.button_create.on_click(self.on_button_join)\n",
    "            self.queue_message = []\n",
    "            self.session_id = \"\"\n",
    "            self.question = 1\n",
    "            # MIDLERTIDIG\n",
    "            self.total_questions = 5\n",
    "            \n",
    "            # text field\n",
    "            self.stu_code = widgets.Text(value='', placeholder='', description='student code:', disabled=False)\n",
    "            self.code = self.stu_code.value\n",
    "            display(self.button_create, self.stu_code)\n",
    "            \n",
    "            self.group_name_widget = widgets.Text(value='', placeholder='', description='Group name:', disabled=False)\n",
    "            \n",
    "            self.group_name = self.group_name_widget.value\n",
    "\n",
    "            display(self.button_create, self.group_name_widget)\n",
    "            self.mqtt_client.subscribe(f\"{TOPIC}/{JOIN_TOPIC}\")\n",
    "            display()\n",
    "\n",
    "\n",
    "      def save_text(self):\n",
    "           self.code = self.stu_code.value\n",
    "           \n",
    "\n",
    "      def on_button_join(self, session_code_stu):\n",
    "        self.stm.send('join') # <---- here we send a message\n",
    "        pass\n",
    "  \n",
    "      def on_button_finish_task(self, session_code_stu):\n",
    "            self.stm.send('finish_task')\n",
    "            pass\n",
    "      \n",
    "      def on_button_ask_help(self, session_code_stu):\n",
    "            self.stm.send('ask_help')\n",
    "            pass\n",
    "      def on_button_leave(self, session_code_stu):\n",
    "            self.stm.send('leave_lab')\n",
    "            leave_message = {\"msg\": \"leave_session\", \"group_name\": self.group_name_widget.value}\n",
    "            json_message = json.dumps(leave_message)\n",
    "            self.mqtt_client.publish(f\"{TOPIC}/{self.session_id}/{UPDATE_TOPIC}\",json_message)\n",
    "            pass\n",
    "      \n",
    "# initial transition\n",
    "t0 = {'source': 'initial',\n",
    "      'target': 'idle'}\n",
    "\n",
    "# transitions\n",
    "\n",
    "#t1 and t2 are transitions from idle to wait and back\n",
    "t1 = {'trigger':'join', \n",
    "      'source':'idle', \n",
    "      'target':'wait'}\n",
    "\n",
    "\n",
    "t2 = {'trigger':'wrong_code', \n",
    "      'source':'wait', \n",
    "      'target':'idle',\n",
    "      'effect': 'wrong_code'}\n",
    "\n",
    "\n",
    "t3 = {'trigger':'correct_code', \n",
    "      'source':'wait', \n",
    "      'target':'lab_session_active',\n",
    "      'effect': 'setup_lab'}\n",
    "\n",
    "\n",
    "t4 = {'trigger':'ask_help', \n",
    "      'source':'lab_session_active', \n",
    "      'target':'lab_session_active',\n",
    "      'effect': 'ask_help' }\n",
    "\n",
    "t5 = {'trigger':'leave_queue', \n",
    "      'source':'lab_session_active', \n",
    "      'target':'lab_session_active',\n",
    "      'effect': 'leave_queue'}\n",
    "\n",
    "t6 = {'trigger':'finish_task', \n",
    "      'source':'lab_session_active', \n",
    "      'target':'lab_session_active',\n",
    "      'effect': 'finish_task'}\n",
    "\n",
    "#Trengs ikke siden det skjer automatisk når man ber om hjelp\n",
    "t7 = {'trigger':'queue_request', \n",
    "       'source':'lab_session_active', \n",
    "       'target':'lab_session_active',\n",
    "       'effect': 'update_queue'\n",
    "       }\n",
    "\n",
    "\n",
    "t8 = {'trigger':'leave_lab', \n",
    "      'source':'lab_session_active', \n",
    "      'target':'idle',\n",
    "      'effect': 'wrong_code'\n",
    "      }\n",
    "\n",
    "\n",
    "\n",
    "\n",
    "# the states:\n",
    "idle = {'name': 'idle'}\n",
    "\n",
    "wait = {'name': 'wait',\n",
    "        'entry': 'publish'}\n",
    "\n",
    "lab_session_active = {'name': 'lab_session_active'}\n",
    "\n",
    "    "
   ]
  },
  {
   "cell_type": "code",
   "execution_count": null,
   "metadata": {},
   "outputs": [
    {
     "data": {
      "application/vnd.jupyter.widget-view+json": {
       "model_id": "894d09ed61a84fdba729f28dab41bffd",
       "version_major": 2,
       "version_minor": 0
      },
      "text/plain": [
       "Button(description='Join Session', style=ButtonStyle())"
      ]
     },
     "metadata": {},
     "output_type": "display_data"
    },
    {
     "data": {
      "application/vnd.jupyter.widget-view+json": {
       "model_id": "d0c40c39ea9946278827929b8bc60fae",
       "version_major": 2,
       "version_minor": 0
      },
      "text/plain": [
       "Text(value='', description='student code:', placeholder='')"
      ]
     },
     "metadata": {},
     "output_type": "display_data"
    },
    {
     "data": {
      "application/vnd.jupyter.widget-view+json": {
       "model_id": "894d09ed61a84fdba729f28dab41bffd",
       "version_major": 2,
       "version_minor": 0
      },
      "text/plain": [
       "Button(description='Join Session', style=ButtonStyle())"
      ]
     },
     "metadata": {},
     "output_type": "display_data"
    },
    {
     "data": {
      "application/vnd.jupyter.widget-view+json": {
       "model_id": "f61f45983adc4457868b2a5b44637f90",
       "version_major": 2,
       "version_minor": 0
      },
      "text/plain": [
       "Text(value='', description='Group name:', placeholder='')"
      ]
     },
     "metadata": {},
     "output_type": "display_data"
    },
    {
     "name": "stdout",
     "output_type": "stream",
     "text": [
      "Connectin to mqtt20.iik.ntnu.no:1883\n"
     ]
    },
    {
     "name": "stdout",
     "output_type": "stream",
     "text": [
      "on_connect(): Connection Accepted.\n",
      "Correct code, session joined\n",
      "Sucsessfully unsubscribed to: team02/join\n",
      "Sucsessfully subscribed to: team02/0/help\n",
      "Sucsessfully subscribed to: team02/0/update\n",
      "Setting up lab...\n"
     ]
    },
    {
     "data": {
      "application/vnd.jupyter.widget-view+json": {
       "model_id": "53bea1da5ecf42f8bad4d5d7fcd186fe",
       "version_major": 2,
       "version_minor": 0
      },
      "text/plain": [
       "IntText(value=1, description='Task', disabled=True)"
      ]
     },
     "metadata": {},
     "output_type": "display_data"
    },
    {
     "data": {
      "application/vnd.jupyter.widget-view+json": {
       "model_id": "f8de11be8e9c48b482c6a9c07f92dd0c",
       "version_major": 2,
       "version_minor": 0
      },
      "text/plain": [
       "Button(description='Get help', style=ButtonStyle())"
      ]
     },
     "metadata": {},
     "output_type": "display_data"
    },
    {
     "data": {
      "application/vnd.jupyter.widget-view+json": {
       "model_id": "abc95697b23c4fd9a111d906cd4e85c9",
       "version_major": 2,
       "version_minor": 0
      },
      "text/plain": [
       "Button(description='Finish task', style=ButtonStyle())"
      ]
     },
     "metadata": {},
     "output_type": "display_data"
    },
    {
     "data": {
      "application/vnd.jupyter.widget-view+json": {
       "model_id": "7f6e1d5dcaa34980bf0fff38b353eb56",
       "version_major": 2,
       "version_minor": 0
      },
      "text/plain": [
       "IntProgress(value=1, description='Progress', max=5, min=1)"
      ]
     },
     "metadata": {},
     "output_type": "display_data"
    },
    {
     "data": {
      "application/vnd.jupyter.widget-view+json": {
       "model_id": "70aa4d6d80224d6886577ce7eb3d224a",
       "version_major": 2,
       "version_minor": 0
      },
      "text/plain": [
       "Button(description='Leave Session', style=ButtonStyle())"
      ]
     },
     "metadata": {},
     "output_type": "display_data"
    },
    {
     "name": "stdout",
     "output_type": "stream",
     "text": [
      "Receiving queue, passing on to state machine"
     ]
    },
    {
     "data": {
      "application/vnd.jupyter.widget-view+json": {
       "model_id": "6bda040612604e268df466835adc0b5e",
       "version_major": 2,
       "version_minor": 0
      },
      "text/plain": [
       "Text(value='Not in queue', description='Queue nr.', disabled=True, placeholder='')"
      ]
     },
     "metadata": {},
     "output_type": "display_data"
    },
    {
     "name": "stdout",
     "output_type": "stream",
     "text": [
      "\n",
      "queue sent sucsessfully to state machine\n",
      "Lab set up\n",
      "Finished with task 1\n",
      "Finished with task 2\n",
      "Finished with task 3\n",
      "Finished with task 4\n",
      "Finished with task 5\n",
      "Finished with task 5\n",
      "Finished with task 5\n",
      "Finished with task 5\n"
     ]
    },
    {
     "data": {
      "application/vnd.jupyter.widget-view+json": {
       "model_id": "1502fd2e23dc4958b25207d5c6be29f1",
       "version_major": 2,
       "version_minor": 0
      },
      "text/plain": [
       "Button(description='Join Session', style=ButtonStyle())"
      ]
     },
     "metadata": {},
     "output_type": "display_data"
    },
    {
     "data": {
      "application/vnd.jupyter.widget-view+json": {
       "model_id": "d25c44f16e4f4bd3a2eda378e2f506da",
       "version_major": 2,
       "version_minor": 0
      },
      "text/plain": [
       "Text(value='', description='student code:', placeholder='')"
      ]
     },
     "metadata": {},
     "output_type": "display_data"
    },
    {
     "data": {
      "application/vnd.jupyter.widget-view+json": {
       "model_id": "1502fd2e23dc4958b25207d5c6be29f1",
       "version_major": 2,
       "version_minor": 0
      },
      "text/plain": [
       "Button(description='Join Session', style=ButtonStyle())"
      ]
     },
     "metadata": {},
     "output_type": "display_data"
    },
    {
     "data": {
      "application/vnd.jupyter.widget-view+json": {
       "model_id": "fac5b63b47c64ee8bf65cfc76dee8787",
       "version_major": 2,
       "version_minor": 0
      },
      "text/plain": [
       "Text(value='', description='Group name:', placeholder='')"
      ]
     },
     "metadata": {},
     "output_type": "display_data"
    },
    {
     "name": "stdout",
     "output_type": "stream",
     "text": [
      "Incorrect code, try again\n"
     ]
    },
    {
     "data": {
      "application/vnd.jupyter.widget-view+json": {
       "model_id": "13073fabb0a848288db5c5740732ee5b",
       "version_major": 2,
       "version_minor": 0
      },
      "text/plain": [
       "Button(description='Join Session', style=ButtonStyle())"
      ]
     },
     "metadata": {},
     "output_type": "display_data"
    },
    {
     "data": {
      "application/vnd.jupyter.widget-view+json": {
       "model_id": "a0b7e300dd8645c9bd10ee93554819f3",
       "version_major": 2,
       "version_minor": 0
      },
      "text/plain": [
       "Text(value='', description='student code:', placeholder='')"
      ]
     },
     "metadata": {},
     "output_type": "display_data"
    },
    {
     "data": {
      "application/vnd.jupyter.widget-view+json": {
       "model_id": "13073fabb0a848288db5c5740732ee5b",
       "version_major": 2,
       "version_minor": 0
      },
      "text/plain": [
       "Button(description='Join Session', style=ButtonStyle())"
      ]
     },
     "metadata": {},
     "output_type": "display_data"
    },
    {
     "data": {
      "application/vnd.jupyter.widget-view+json": {
       "model_id": "5afa80ee17e34bf1bc2bfa04cacfce83",
       "version_major": 2,
       "version_minor": 0
      },
      "text/plain": [
       "Text(value='', description='Group name:', placeholder='')"
      ]
     },
     "metadata": {},
     "output_type": "display_data"
    },
    {
     "name": "stdout",
     "output_type": "stream",
     "text": [
      "Incorrect code, try again\n"
     ]
    },
    {
     "data": {
      "application/vnd.jupyter.widget-view+json": {
       "model_id": "4e078281b257412287c85f7daf9ea054",
       "version_major": 2,
       "version_minor": 0
      },
      "text/plain": [
       "Button(description='Join Session', style=ButtonStyle())"
      ]
     },
     "metadata": {},
     "output_type": "display_data"
    },
    {
     "data": {
      "application/vnd.jupyter.widget-view+json": {
       "model_id": "d256451a59ba4eb49639a828e3a4ae13",
       "version_major": 2,
       "version_minor": 0
      },
      "text/plain": [
       "Text(value='', description='student code:', placeholder='')"
      ]
     },
     "metadata": {},
     "output_type": "display_data"
    },
    {
     "data": {
      "application/vnd.jupyter.widget-view+json": {
       "model_id": "4e078281b257412287c85f7daf9ea054",
       "version_major": 2,
       "version_minor": 0
      },
      "text/plain": [
       "Button(description='Join Session', style=ButtonStyle())"
      ]
     },
     "metadata": {},
     "output_type": "display_data"
    },
    {
     "data": {
      "application/vnd.jupyter.widget-view+json": {
       "model_id": "fa91fc8a4b0141d7bc73271179068ecc",
       "version_major": 2,
       "version_minor": 0
      },
      "text/plain": [
       "Text(value='', description='Group name:', placeholder='')"
      ]
     },
     "metadata": {},
     "output_type": "display_data"
    },
    {
     "name": "stdout",
     "output_type": "stream",
     "text": [
      "Correct code, session joined\n",
      "Sucsessfully unsubscribed to: team02/join\n",
      "Sucsessfully subscribed to: team02/0/help\n",
      "Sucsessfully subscribed to: team02/0/update\n",
      "Setting up lab...\n"
     ]
    },
    {
     "data": {
      "application/vnd.jupyter.widget-view+json": {
       "model_id": "305833165e77446fabe4425ec249412e",
       "version_major": 2,
       "version_minor": 0
      },
      "text/plain": [
       "IntText(value=1, description='Task', disabled=True)"
      ]
     },
     "metadata": {},
     "output_type": "display_data"
    },
    {
     "data": {
      "application/vnd.jupyter.widget-view+json": {
       "model_id": "7317a10464204b7a909ff749d4803ce4",
       "version_major": 2,
       "version_minor": 0
      },
      "text/plain": [
       "Button(description='Get help', style=ButtonStyle())"
      ]
     },
     "metadata": {},
     "output_type": "display_data"
    },
    {
     "data": {
      "application/vnd.jupyter.widget-view+json": {
       "model_id": "8967c9a8a46d40e48d99f46b22be1b63",
       "version_major": 2,
       "version_minor": 0
      },
      "text/plain": [
       "Button(description='Finish task', style=ButtonStyle())"
      ]
     },
     "metadata": {},
     "output_type": "display_data"
    },
    {
     "data": {
      "application/vnd.jupyter.widget-view+json": {
       "model_id": "b9c9396acc834feb928cd6bbca716c38",
       "version_major": 2,
       "version_minor": 0
      },
      "text/plain": [
       "IntProgress(value=1, description='Progress', max=5, min=1)"
      ]
     },
     "metadata": {},
     "output_type": "display_data"
    },
    {
     "data": {
      "application/vnd.jupyter.widget-view+json": {
       "model_id": "96e68cc38d2a46659cdd095e80537319",
       "version_major": 2,
       "version_minor": 0
      },
      "text/plain": [
       "Button(description='Leave Session', style=ButtonStyle())"
      ]
     },
     "metadata": {},
     "output_type": "display_data"
    },
    {
     "data": {
      "application/vnd.jupyter.widget-view+json": {
       "model_id": "a41685b2950d4493915926dfa9dd583d",
       "version_major": 2,
       "version_minor": 0
      },
      "text/plain": [
       "Text(value='Not in queue', description='Queue nr.', disabled=True, placeholder='')"
      ]
     },
     "metadata": {},
     "output_type": "display_data"
    },
    {
     "name": "stdout",
     "output_type": "stream",
     "text": [
      "Lab set up\n",
      "Receiving queue, passing on to state machine\n",
      "queue sent sucsessfully to state machine\n",
      "Receiving queue, passing on to state machine\n",
      "queue sent sucsessfully to state machine\n",
      "on_connect(): Connection Accepted.\n"
     ]
    }
   ],
   "source": [
    "student = Student()\n",
    "state_machine = Machine(transitions=[t0, t1, t2, t3, t4, t5, t6, t7, t8], states=[idle, wait, lab_session_active], obj=student, name=\"student\")\n",
    "student.stm = state_machine\n",
    "\n",
    "driver = Driver()\n",
    "driver.add_machine(state_machine)\n",
    "\n",
    "myclient = MQTT_Client_1(student)\n",
    "student.mqtt_client = myclient.client\n",
    "myclient.stm_driver = driver\n",
    "\n",
    "driver.start()\n",
    "myclient.start(BROKER, PORT)"
   ]
  }
 ],
 "metadata": {
  "kernelspec": {
   "display_name": "Python 3",
   "language": "python",
   "name": "python3"
  },
  "language_info": {
   "codemirror_mode": {
    "name": "ipython",
    "version": 3
   },
   "file_extension": ".py",
   "mimetype": "text/x-python",
   "name": "python",
   "nbconvert_exporter": "python",
   "pygments_lexer": "ipython3",
   "version": "3.9.13"
  },
  "orig_nbformat": 4
 },
 "nbformat": 4,
 "nbformat_minor": 2
}
