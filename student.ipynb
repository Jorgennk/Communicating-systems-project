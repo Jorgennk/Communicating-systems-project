{
 "cells": [
  {
   "cell_type": "code",
   "execution_count": 1,
   "metadata": {},
   "outputs": [],
   "source": [
    "from threading import Thread\n",
    "import json\n",
    "from stmpy import Machine, Driver\n",
    "import paho.mqtt.client as mqtt\n",
    "from utils import BROKER, PORT, TOPIC, JOIN_TOPIC, QUEUE_TOPIC, HELP_TOPIC, UPDATE_TOPIC \n",
    "\n",
    "\n",
    "# TODO: fikse casen hvor man starter lab session ved exit fra wait state når du får feil kode\n",
    "\n",
    "class MQTT_Client_1:\n",
    "    def __init__(self, stm):\n",
    "        self.state_machine = stm\n",
    "        self.count = 0\n",
    "        self.client = mqtt.Client()\n",
    "        self.client.on_connect = self.on_connect\n",
    "        self.client.on_message = self.on_message\n",
    "        self.stm_driver: Driver = None\n",
    "\n",
    "    def on_connect(self, client, userdata, flags, rc):\n",
    "        print(\"on_connect(): {}\".format(mqtt.connack_string(rc)))\n",
    "\n",
    "    def on_message(self, client, userdata, msg):\n",
    "        try:\n",
    "            #message = json.loads(msg.payload.decode('utf-8'))\n",
    "            message: dict = json.loads(msg.payload.decode('utf-8'))\n",
    "        except json.decoder.JSONDecodeError:\n",
    "            return\n",
    "    \n",
    "   \n",
    "        #self.state_machine.message = message\n",
    "        print(message)\n",
    "        print(\"on_message(): topic: {}\".format(msg.topic))\n",
    "        \n",
    "        if msg.topic == JOIN_TOPIC:\n",
    "            print(\"Riktig sted\")\n",
    "            print(message['msg'])\n",
    "            if message['msg'] == \"session_joined\":\n",
    "                print(\"Correct code\")\n",
    "                self.stm_driver.send(\"correct_code\", \"student\")\n",
    "\n",
    "                #Unsubscribe from the JOIN TOPIC so messages are received\n",
    "\n",
    "                self.client.unsubscribe(JOIN_TOPIC)\n",
    "\n",
    "                # Send the session_id to the student object\n",
    "                self.state_machine.session_id = message[\"session_id\"]\n",
    "                \n",
    "                #Subscribe to the session and the additional topics\n",
    "                \n",
    "                \n",
    "                self.client.subscribe(f\"{TOPIC}/{message['session_id']}/{HELP_TOPIC}\")\n",
    "                print(\"Sucsessfully subscribed to: \"+ (f\"{TOPIC}/{message['session_id']}/{HELP_TOPIC}\"))\n",
    "                \n",
    "                self.client.subscribe(f\"{TOPIC}/{message['session_id']}/{UPDATE_TOPIC}\")\n",
    "                print(\"Sucsessfully subscribed to: \"+ (f\"{TOPIC}/{message['session_id']}/{UPDATE_TOPIC}\"))\n",
    "                \n",
    "                                      \n",
    "\n",
    "        elif msg.topic == JOIN_TOPIC:\n",
    "            if message == \"Invalid code\":\n",
    "                print(\"Feil kode\")\n",
    "                self.stm_driver.send(\"wrong_code\", \"student\")\n",
    "        \n",
    "        \"\"\"if msg.topic == QUEUE_\n",
    "             self.state_machine.message = message[\"queue\"]            \"\"\"\n",
    "\n",
    "\n",
    "\n",
    "        \n",
    "\n",
    "    \n",
    "        \n",
    "    def start(self, broker, port):\n",
    "        #Kobler til main topic og join topic og broker\n",
    "        print(\"Connecting to {}:{}\".format(broker, port))\n",
    "        self.client.connect(broker, port)\n",
    "        self.client.subscribe(TOPIC)\n",
    "        self.client.subscribe(JOIN_TOPIC)\n",
    "\n",
    "        try:\n",
    "            thread = Thread(target=self.client.loop_forever)\n",
    "            thread.start()\n",
    "        except KeyboardInterrupt:\n",
    "            print(\"Interrupted\")\n",
    "            self.client.disconnect()\n",
    "            \n",
    "            \n"
   ]
  },
  {
   "cell_type": "code",
   "execution_count": 2,
   "metadata": {},
   "outputs": [
    {
     "name": "stdout",
     "output_type": "stream",
     "text": [
      "Requirement already satisfied: paho-mqtt in /Library/Frameworks/Python.framework/Versions/3.9/lib/python3.9/site-packages (1.6.1)\n",
      "\u001b[33mWARNING: You are using pip version 22.0.4; however, version 23.1.1 is available.\n",
      "You should consider upgrading via the '/Library/Frameworks/Python.framework/Versions/3.9/bin/python3.9 -m pip install --upgrade pip' command.\u001b[0m\u001b[33m\n",
      "\u001b[0m"
     ]
    }
   ],
   "source": [
    "!pip3 install paho-mqtt\n",
    "from stmpy import Driver, Machine\n",
    "from threading import Thread\n",
    "import paho.mqtt.client as mqtt\n",
    "import json\n",
    "from stmpy import Machine, Driver\n",
    "import ipywidgets as widgets\n",
    "from IPython.display import display\n",
    "import random\n",
    "import sys\n",
    "\n",
    "#NOTES:\n",
    "## Håndtere i server som mottar join-koder at den enten sender trigger: riktig kode, eller trigger: feil kode, \n",
    "# utifra det så vet vi hvilken state vi skal tils\n",
    "#Hver eneste student må ha en slags kode/gruppenavn\n",
    "\n",
    "\n",
    "class Student:\n",
    "      def __init__(self):\n",
    "            self.button_create = widgets.Button(description=\"Join Session\")\n",
    "            self.button_create.on_click(self.on_button_join)\n",
    "            self.message = \"\"\n",
    "            self.session_id = \"\"\n",
    "            self.mqtt_client: mqtt.Client = None\n",
    "            self.stm: Machine = None\n",
    "            self.question = 1\n",
    "            # MIDLERTIDIG\n",
    "            self.total_questions = 5\n",
    "            # text field\n",
    "            self.stu_code = widgets.Text(value='', placeholder='', description='student code:', disabled=False)\n",
    "            print(self.stu_code.value)\n",
    "            display(self.button_create, self.stu_code)\n",
    "            \n",
    "            self.group_name = widgets.Text(value='', placeholder='', description='Group name:', disabled=False)\n",
    "            display(self.button_create, self.group_name)\n",
    "            display()\n",
    "\n",
    "      def on_wait(self):\n",
    "            \"\"\"TODO\"\"\"\n",
    "\n",
    "\n",
    "      \n",
    "      def ask_help(self):\n",
    "\n",
    "            question_for_server_use = \"self.group_name +  + self.question\"\n",
    "\n",
    "            dictMessage = { \"question\": self.question, \"group_name\": self.group_name.value}\n",
    "            print(self.session_id)\n",
    "            jsonMessage = json.dumps(dictMessage)\n",
    "            self.mqtt_client.subscribe(f\"{TOPIC}/{self.session_id}/{QUEUE_TOPIC}\")\n",
    "            self.mqtt_client.publish(f\"{TOPIC}/{self.session_id}/{HELP_TOPIC}\", jsonMessage)\n",
    "            \n",
    "            print(\"Sucsessfully subscribed to: \"+ (f\"{TOPIC}/{self.session_id}/{QUEUE_TOPIC}\"))\n",
    "            #DISABLE HELP BUTTON)\n",
    "\n",
    "      def finish_task(self):\n",
    "            pasram = \"self.group_name + self.question\"\n",
    "            dictMessage = {  \"question\": self.question, \"group_name\": self.group_name.value}\n",
    "            jsonMessage = json.dumps(dictMessage)\n",
    "           # self.mqtt_client.publish(f\"{TOPIC}/{message['session_id']}/{UPDATE_TOPIC}\", jsonMessage)\n",
    "            self.question += 1\n",
    "            self.progress_bar.value += 1    \n",
    "\n",
    "      def update_queue(self):\n",
    "            self.place = 1\n",
    "            if self.group_name == self.message:\n",
    "                  self.mqtt_client.unsubscribe(QUEUE_TOPIC)\n",
    "            #ENABLE HELP\n",
    "            for i in self.mesage:\n",
    "                  if i == self.group_name:\n",
    "                        break\n",
    "                  else:\n",
    "                        self.place += 1\n",
    "    \n",
    "\n",
    "      def publish(self):\n",
    "            print(self.stu_code)\n",
    "            code = self.stu_code.value\n",
    "            group_name = self.group_name.value\n",
    "\n",
    "            dictMessage = {\"msg\": \"join_session\",\" code\": code, \"group_name\": group_name}\n",
    "            jsonMessage = json.dumps(dictMessage)\n",
    "            print(jsonMessage)\n",
    "\n",
    "            self.mqtt_client.publish(JOIN_TOPIC ,jsonMessage)\n",
    "            self.stu_code.value = \"Loading\"\n",
    "      \n",
    "      def setup_lab(self):\n",
    "            self.button_help = widgets.Button(description=\"Get help\")\n",
    "            self.button_help.on_click(self.on_button_ask_help)\n",
    "            display(self.button_help)\n",
    "            self.button_finish_task = widgets.Button(description=\"Finish task\")\n",
    "            self.button_finish_task.on_click(self.on_button_finish_task)\n",
    "            display(self.button_finish_task)\n",
    "            self.progress_bar = widgets.IntProgress(min = 0, max = self.total_questions, description = \"Progress\")\n",
    "            #self.progress_bar.value(self.question)\n",
    "            display(self.progress_bar)\n",
    "            pass\n",
    "\n",
    "      def save_text(self):\n",
    "           self.code = self.stu_code\n",
    "           \n",
    "\n",
    "      def on_button_join(self, session_code_stu):\n",
    "        self.stm.send('join') # <---- here we send a message\n",
    "        print(self.stm.state)\n",
    "        pass\n",
    "  \n",
    "      def on_button_finish_task(self, session_code_stu):\n",
    "            self.stm.send('finish_task')\n",
    "            pass\n",
    "      \n",
    "      def on_button_ask_help(self, session_code_stu):\n",
    "            self.stm.send('ask_help')\n",
    "            pass\n",
    "# initial transition\n",
    "t0 = {'source': 'initial',\n",
    "      'target': 'idle'}\n",
    "\n",
    "# transitions\n",
    "\n",
    "#t1 and t2 are transitions from idle to wait and back\n",
    "t1 = {'trigger':'join', \n",
    "      'source':'idle', \n",
    "      'target':'wait'}\n",
    "\n",
    "\n",
    "t2 = {'trigger':'wrong_code', \n",
    "      'source':'wait', \n",
    "      'target':'idle'}\n",
    "\n",
    "\n",
    "t3 = {'trigger':'correct_code', \n",
    "      'source':'wait', \n",
    "      'target':'lab_session_active',\n",
    "      'effect': 'setup_lab'}\n",
    "\n",
    "\n",
    "t4 = {'trigger':'ask_help', \n",
    "      'source':'lab_session_active', \n",
    "      'target':'lab_session_active',\n",
    "      'effect': 'ask_help' }\n",
    "\n",
    "t5 = {'trigger':'leave_queue', \n",
    "      'source':'lab_session_active', \n",
    "      'target':'lab_session_active',\n",
    "      'effect': 'leave_queue'}\n",
    "\n",
    "t6 = {'trigger':'finish_task', \n",
    "      'source':'lab_session_active', \n",
    "      'target':'lab_session_active',\n",
    "      'effect': 'finish_task'}\n",
    "\n",
    "#Trengs ikke siden det skjer automatisk når man ber om hjelp\n",
    "t7 = {'trigger':'queue_request', \n",
    "       'source':'lab_session_active', \n",
    "       'target':'lab_session_active',\n",
    "       'effect': 'update_queue'\n",
    "       }\n",
    "\n",
    "\n",
    "t8 = {'trigger':'leave_lab', \n",
    "      'source':'lab_session_active', \n",
    "      'target':'exit'}\n",
    "\n",
    "\n",
    "\n",
    "\n",
    "# the states:\n",
    "idle = {'name': 'idle'}\n",
    "\n",
    "wait = {'name': 'wait',\n",
    "        'entry': 'publish'}\n",
    "#TODO move setup_lab to right place\n",
    "\n",
    "lab_session_active = {'name': 'lab_session_active'}\n",
    "\n",
    "    "
   ]
  },
  {
   "cell_type": "code",
   "execution_count": null,
   "metadata": {},
   "outputs": [
    {
     "name": "stdout",
     "output_type": "stream",
     "text": [
      "\n"
     ]
    },
    {
     "data": {
      "application/vnd.jupyter.widget-view+json": {
       "model_id": "adcd982bd5fe49469cb250e5b97551f4",
       "version_major": 2,
       "version_minor": 0
      },
      "text/plain": [
       "Button(description='Join Session', style=ButtonStyle())"
      ]
     },
     "metadata": {},
     "output_type": "display_data"
    },
    {
     "data": {
      "application/vnd.jupyter.widget-view+json": {
       "model_id": "fad6f0013ce040fa92a78e4d7ff0f35d",
       "version_major": 2,
       "version_minor": 0
      },
      "text/plain": [
       "Text(value='', description='student code:', placeholder='')"
      ]
     },
     "metadata": {},
     "output_type": "display_data"
    },
    {
     "data": {
      "application/vnd.jupyter.widget-view+json": {
       "model_id": "adcd982bd5fe49469cb250e5b97551f4",
       "version_major": 2,
       "version_minor": 0
      },
      "text/plain": [
       "Button(description='Join Session', style=ButtonStyle())"
      ]
     },
     "metadata": {},
     "output_type": "display_data"
    },
    {
     "data": {
      "application/vnd.jupyter.widget-view+json": {
       "model_id": "00f6da3c881b49a59ca951472e23cd20",
       "version_major": 2,
       "version_minor": 0
      },
      "text/plain": [
       "Text(value='', description='Group name:', placeholder='')"
      ]
     },
     "metadata": {},
     "output_type": "display_data"
    },
    {
     "name": "stdout",
     "output_type": "stream",
     "text": [
      "Connecting to mqtt20.iik.ntnu.no:1883\n"
     ]
    },
    {
     "name": "stdout",
     "output_type": "stream",
     "text": [
      "on_connect(): Connection Accepted.\n",
      "idle\n",
      "Text(value='muslimer', description='student code:', placeholder='')\n",
      "{\"msg\": \"join_session\", \" code\": \"muslimer\", \"group_name\": \"brenn de og\"}\n",
      "{'msg': 'join_session', ' code': 'muslimer', 'group_name': 'brenn de og'}\n",
      "on_message(): topic: join\n",
      "Riktig sted\n",
      "join_session\n",
      "{'msg': 'session_joined', 'session_id': '69420', 'group_name': 'pikk'}\n",
      "on_message(): topic: join\n",
      "Riktig sted\n",
      "session_joined\n",
      "Correct code\n",
      "Sucsessfully subscribed to: team02/69420/help\n",
      "Sucsessfully subscribed to: team02/69420/update\n"
     ]
    },
    {
     "data": {
      "application/vnd.jupyter.widget-view+json": {
       "model_id": "c1e44c7b6f9243c8ac5bbba2bd9ccf5b",
       "version_major": 2,
       "version_minor": 0
      },
      "text/plain": [
       "Button(description='Get help', style=ButtonStyle())"
      ]
     },
     "metadata": {},
     "output_type": "display_data"
    },
    {
     "data": {
      "application/vnd.jupyter.widget-view+json": {
       "model_id": "b943042c921d4d71a2802775ae912e14",
       "version_major": 2,
       "version_minor": 0
      },
      "text/plain": [
       "Button(description='Finish task', style=ButtonStyle())"
      ]
     },
     "metadata": {},
     "output_type": "display_data"
    },
    {
     "data": {
      "application/vnd.jupyter.widget-view+json": {
       "model_id": "765a8a46428a466391e0283fd1ca5b92",
       "version_major": 2,
       "version_minor": 0
      },
      "text/plain": [
       "IntProgress(value=0, description='Progress', max=5)"
      ]
     },
     "metadata": {},
     "output_type": "display_data"
    },
    {
     "name": "stdout",
     "output_type": "stream",
     "text": [
      "69420\n",
      "Sucsessfully subscribed to: team02/69420/queue\n",
      "{'question': 1, 'group_name': 'brenn de og'}\n",
      "on_message(): topic: team02/69420/queue\n"
     ]
    }
   ],
   "source": [
    "student = Student()\n",
    "state_machine = Machine(transitions=[t0, t1, t2, t3, t4, t5, t6, t7, t8], states=[idle, wait, lab_session_active], obj=student, name=\"student\")\n",
    "student.stm = state_machine\n",
    "\n",
    "driver = Driver()\n",
    "driver.add_machine(state_machine)\n",
    "\n",
    "myclient = MQTT_Client_1(student)\n",
    "student.mqtt_client = myclient.client\n",
    "myclient.stm_driver = driver\n",
    "\n",
    "driver.start()\n",
    "myclient.start(BROKER, PORT)"
   ]
  }
 ],
 "metadata": {
  "kernelspec": {
   "display_name": "Python 3",
   "language": "python",
   "name": "python3"
  },
  "language_info": {
   "codemirror_mode": {
    "name": "ipython",
    "version": 3
   },
   "file_extension": ".py",
   "mimetype": "text/x-python",
   "name": "python",
   "nbconvert_exporter": "python",
   "pygments_lexer": "ipython3",
   "version": "3.9.13"
  },
  "orig_nbformat": 4
 },
 "nbformat": 4,
 "nbformat_minor": 2
}
