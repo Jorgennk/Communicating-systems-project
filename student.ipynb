{
 "cells": [
  {
   "cell_type": "code",
   "execution_count": 1,
   "metadata": {},
   "outputs": [],
   "source": [
    "from threading import Thread\n",
    "import json\n",
    "from stmpy import Machine, Driver\n",
    "import paho.mqtt.client as mqtt\n",
    "from utils import BROKER, PORT, TOPIC, JOIN_TOPIC, QUEUE_TOPIC, HELP_TOPIC, UPDATE_TOPIC \n",
    "\n",
    "\n",
    "class MQTT_Client_1:\n",
    "    def __init__(self, stm):\n",
    "        self.state_machine = stm\n",
    "        self.count = 0\n",
    "        self.client = mqtt.Client()\n",
    "        self.client.on_connect = self.on_connect\n",
    "        self.client.on_message = self.on_message\n",
    "        self.stm_driver: Driver = None\n",
    "        self.session_id = \"\"\n",
    "\n",
    "    def on_connect(self, client, userdata, flags, rc):\n",
    "        print(\"on_connect(): {}\".format(mqtt.connack_string(rc)))\n",
    "\n",
    "    def on_message(self, client, userdata, msg):\n",
    "        try:\n",
    "            \n",
    "            message: dict  = json.loads(msg.payload.decode('utf-8'))\n",
    "        except json.decoder.JSONDecodeError:\n",
    "            return\n",
    "    \n",
    "   \n",
    "        \n",
    "        #print(\"on_message(): topic: {}\".format(msg.topic))\n",
    "        \n",
    "        if msg.topic == JOIN_TOPIC:\n",
    "            if message['msg'] == \"session_joined\":\n",
    "                print(\"Correct code, session joined\")\n",
    "                self.stm_driver.send(\"correct_code\", \"student\")\n",
    "\n",
    "                #Unsubscribe from the JOIN TOPIC so other messages are'nt received\n",
    "\n",
    "                self.client.unsubscribe(JOIN_TOPIC)\n",
    "                print(\"Sucsessfully unsubscribed to: \"+ (f\"{JOIN_TOPIC}\"))\n",
    "                self.session_id = message['session_id']\n",
    "                \n",
    "\n",
    "                # Send the session_id to the student object\n",
    "                self.state_machine.session_id = message[\"session_id\"]\n",
    "                \n",
    "                #Subscribe to the session and the following topics:\n",
    "                #team02/session_id/HELP_TOPIC\n",
    "                #team02/session_id/UPDATE_TOPIC\n",
    "                self.client.subscribe(f\"{TOPIC}/{message['session_id']}/{HELP_TOPIC}\")\n",
    "                print(\"Sucsessfully subscribed to: \"+ (f\"{TOPIC}/{message['session_id']}/{HELP_TOPIC}\"))\n",
    "                \n",
    "                self.client.subscribe(f\"{TOPIC}/{message['session_id']}/{UPDATE_TOPIC}\")\n",
    "                print(\"Sucsessfully subscribed to: \"+ (f\"{TOPIC}/{message['session_id']}/{UPDATE_TOPIC}\"))\n",
    "                self.client.subscribe(f\"{TOPIC}/{self.session_id}/{QUEUE_TOPIC}\")\n",
    "                \n",
    "                                      \n",
    "\n",
    "        elif msg.topic == JOIN_TOPIC:\n",
    "            if message == \"Invalid code\":\n",
    "                print(\"Incorrect code, try again\")\n",
    "                self.stm_driver.send(\"wrong_code\", \"student\")\n",
    "                \n",
    "                \n",
    "        elif msg.topic == f\"{TOPIC}/{self.session_id}/{QUEUE_TOPIC}\":\n",
    "            print(\"Receiving queue, passing on to state machine\")\n",
    "            self.state_machine.queue_message = message['queue']\n",
    "            self.stm_driver.send(\"queue_request\", \"student\")\n",
    "            print(\"queue sent sucsessfully to state machine\")\n",
    "                    \n",
    "    def start(self, broker, port):\n",
    "        #Kobler til main topic og join topic og broker\n",
    "        print(\"Connectin to {}:{}\".format(broker, port))\n",
    "        self.client.connect(broker, port)\n",
    "        self.client.subscribe(TOPIC)\n",
    "        self.client.subscribe(JOIN_TOPIC)\n",
    "\n",
    "        try:\n",
    "            thread = Thread(target=self.client.loop_forever)\n",
    "            thread.start()\n",
    "        except KeyboardInterrupt:\n",
    "            print(\"Interrupted\")\n",
    "            self.client.disconnect()\n",
    "            \n",
    "            \n"
   ]
  },
  {
   "cell_type": "code",
   "execution_count": 2,
   "metadata": {},
   "outputs": [
    {
     "name": "stdout",
     "output_type": "stream",
     "text": [
      "Requirement already satisfied: paho-mqtt in /Library/Frameworks/Python.framework/Versions/3.9/lib/python3.9/site-packages (1.6.1)\n",
      "\u001b[33mWARNING: You are using pip version 22.0.4; however, version 23.1.1 is available.\n",
      "You should consider upgrading via the '/Library/Frameworks/Python.framework/Versions/3.9/bin/python3.9 -m pip install --upgrade pip' command.\u001b[0m\u001b[33m\n",
      "\u001b[0m"
     ]
    }
   ],
   "source": [
    "!pip3 install paho-mqtt\n",
    "from stmpy import Driver, Machine\n",
    "from threading import Thread\n",
    "import paho.mqtt.client as mqtt\n",
    "import json\n",
    "from stmpy import Machine, Driver\n",
    "import ipywidgets as widgets\n",
    "from IPython.display import display\n",
    "import random\n",
    "import sys\n",
    "\n",
    "#NOTES:\n",
    "## Håndtere i server som mottar join-koder at den enten sender trigger: riktig kode, eller trigger: feil kode, \n",
    "# utifra det så vet vi hvilken state vi skal tils\n",
    "#Hver eneste student må ha en slags kode/gruppenavn\n",
    "\n",
    "\n",
    "class Student:\n",
    "      def __init__(self):\n",
    "            self.button_create = widgets.Button(description=\"Join Session\")\n",
    "            self.button_create.on_click(self.on_button_join)\n",
    "            self.queue_message = []\n",
    "            self.session_id = \"\"\n",
    "            self.mqtt_client: mqtt.Client = None\n",
    "            self.stm: Machine = None\n",
    "            self.question = 1\n",
    "            # MIDLERTIDIG\n",
    "            self.total_questions = 5\n",
    "            \n",
    "            # text field\n",
    "            self.stu_code = widgets.Text(value='', placeholder='', description='student code:', disabled=False)\n",
    "            self.code = self.stu_code.value\n",
    "            display(self.button_create, self.stu_code)\n",
    "            \n",
    "            self.group_name_widget = widgets.Text(value='', placeholder='', description='Group name:', disabled=False)\n",
    "            \n",
    "            self.group_name = self.group_name_widget.value\n",
    "\n",
    "            display(self.button_create, self.group_name_widget)\n",
    "            display()\n",
    "\n",
    "      def on_wait(self):\n",
    "            \"\"\"TODO\"\"\"\n",
    "\n",
    "\n",
    "      \n",
    "      def ask_help(self):\n",
    "\n",
    "     \n",
    "            dictMessage = { \"msg\": \"request_help\", \"group_name\": self.group_name_widget.value, \"question\": self.question}\n",
    "            jsonMessage = json.dumps(dictMessage)\n",
    "            print(\"Asking for help\")\n",
    "            self.mqtt_client.publish(f\"{TOPIC}/{self.session_id}/{HELP_TOPIC}\", jsonMessage)\n",
    "            self.number_queue.value = \"Queuing\"\n",
    "\n",
    "      def finish_task(self):\n",
    "            dictMessage = {  \"question\": self.question, \"group_name\": self.group_name_widget.value}\n",
    "            jsonMessage = json.dumps(dictMessage)\n",
    "            self.mqtt_client.publish(f\"{TOPIC}/{self.session_id}/{UPDATE_TOPIC}\", jsonMessage)\n",
    "            if self.question == self.total_questions:\n",
    "                   self.button_finish_task.disable = True\n",
    "            else: \n",
    "                  self.question += 1\n",
    "                  self.progress_bar.value += 1 \n",
    "                  self.button_task.value = self.question\n",
    "            print(f\"Finished with task {self.question}\")\n",
    "            \n",
    "                  \n",
    "                     \n",
    "\n",
    "      def update_queue(self):\n",
    "            self.place = 1\n",
    "            if self.group_name_widget.value not in self.queue_message:\n",
    "                  self.number_queue.value = \"Not in queue\"\n",
    "            #ENABLE HELP\n",
    "            else:\n",
    "                  for i in self.queue_message:\n",
    "                        if i == self.group_name_widget.value:\n",
    "                              break\n",
    "                        else:\n",
    "                              self.place += 1  \n",
    "                  Sondre_idiot_confirmed = str(self.place)             \n",
    "                  self.number_queue.value = Sondre_idiot_confirmed\n",
    "            print(f\"Your place in the queue is: {self.place}\")\n",
    "      \n",
    "      def publish(self):\n",
    "            \n",
    "            dictMessage = {\"msg\": \"join_session\",\" code\": self.stu_code.value, \"group_name\": self.group_name_widget.value}\n",
    "            jsonMessage = json.dumps(dictMessage)\n",
    "\n",
    "            self.mqtt_client.publish(JOIN_TOPIC ,jsonMessage)\n",
    "            self.stu_code.value = \"Loading\"\n",
    "\n",
    "      def setup_lab(self):\n",
    "            print(\"Setting up lab...\")\n",
    "            self.button_task = widgets.IntText(value= self.question, placeholder='', description='Task', disabled=True)\n",
    "            display(self.button_task)\n",
    "            self.button_help = widgets.Button(description=\"Get help\")\n",
    "            self.button_help.on_click(self.on_button_ask_help)\n",
    "            display(self.button_help)\n",
    "            self.button_finish_task = widgets.Button(description=\"Finish task\")\n",
    "            self.button_finish_task.on_click(self.on_button_finish_task)\n",
    "            display(self.button_finish_task)\n",
    "            self.progress_bar = widgets.IntProgress(min = 1, max = self.total_questions, description = \"Progress\")\n",
    "            display(self.progress_bar)\n",
    "            self.button_leave = widgets.Button(description=\"Leave Session\")\n",
    "            self.button_leave.on_click(self.on_button_leave)\n",
    "            display(self.button_leave)\n",
    "            self.number_queue = widgets.Text(value=\"Not in queue\", placeholder='', description='Queue nr.', disabled=True)\n",
    "            display(self.number_queue)\n",
    "            print(\"Lab set up\")\n",
    "            \n",
    "            pass\n",
    "\n",
    "\n",
    "      def save_text(self):\n",
    "           self.code = self.stu_code.value\n",
    "           \n",
    "\n",
    "      def on_button_join(self, session_code_stu):\n",
    "        self.stm.send('join') # <---- here we send a message\n",
    "        pass\n",
    "  \n",
    "      def on_button_finish_task(self, session_code_stu):\n",
    "            self.stm.send('finish_task')\n",
    "            pass\n",
    "      \n",
    "      def on_button_ask_help(self, session_code_stu):\n",
    "            self.stm.send('ask_help')\n",
    "            pass\n",
    "      def on_button_leave(self, session_code_stu):\n",
    "            self.stm.send('leave_lab')\n",
    "            leave_message = {\"msg\": \"leave_session\", \"group_name\": self.group_name_widget.value}\n",
    "            json_message = json.dumps(leave_message)\n",
    "            self.mqtt_client.publish(f\"{TOPIC}/{self.session_id}/{UPDATE_TOPIC}\",json_message)\n",
    "            pass\n",
    "      \n",
    "# initial transition\n",
    "t0 = {'source': 'initial',\n",
    "      'target': 'idle'}\n",
    "\n",
    "# transitions\n",
    "\n",
    "#t1 and t2 are transitions from idle to wait and back\n",
    "t1 = {'trigger':'join', \n",
    "      'source':'idle', \n",
    "      'target':'wait'}\n",
    "\n",
    "\n",
    "t2 = {'trigger':'wrong_code', \n",
    "      'source':'wait', \n",
    "      'target':'idle'}\n",
    "\n",
    "\n",
    "t3 = {'trigger':'correct_code', \n",
    "      'source':'wait', \n",
    "      'target':'lab_session_active',\n",
    "      'effect': 'setup_lab'}\n",
    "\n",
    "\n",
    "t4 = {'trigger':'ask_help', \n",
    "      'source':'lab_session_active', \n",
    "      'target':'lab_session_active',\n",
    "      'effect': 'ask_help' }\n",
    "\n",
    "t5 = {'trigger':'leave_queue', \n",
    "      'source':'lab_session_active', \n",
    "      'target':'lab_session_active',\n",
    "      'effect': 'leave_queue'}\n",
    "\n",
    "t6 = {'trigger':'finish_task', \n",
    "      'source':'lab_session_active', \n",
    "      'target':'lab_session_active',\n",
    "      'effect': 'finish_task'}\n",
    "\n",
    "#Trengs ikke siden det skjer automatisk når man ber om hjelp\n",
    "t7 = {'trigger':'queue_request', \n",
    "       'source':'lab_session_active', \n",
    "       'target':'lab_session_active',\n",
    "       'effect': 'update_queue'\n",
    "       }\n",
    "\n",
    "\n",
    "t8 = {'trigger':'leave_lab', \n",
    "      'source':'lab_session_active', \n",
    "      'target':'exit',\n",
    "      'effect': '__init__'}\n",
    "\n",
    "\n",
    "\n",
    "\n",
    "# the states:\n",
    "idle = {'name': 'idle'}\n",
    "\n",
    "wait = {'name': 'wait',\n",
    "        'entry': 'publish'}\n",
    "\n",
    "lab_session_active = {'name': 'lab_session_active'}\n",
    "\n",
    "    "
   ]
  },
  {
   "cell_type": "code",
   "execution_count": null,
   "metadata": {},
   "outputs": [
    {
     "data": {
      "application/vnd.jupyter.widget-view+json": {
       "model_id": "4566e5e85e374f58a535767987509b35",
       "version_major": 2,
       "version_minor": 0
      },
      "text/plain": [
       "Button(description='Join Session', style=ButtonStyle())"
      ]
     },
     "metadata": {},
     "output_type": "display_data"
    },
    {
     "data": {
      "application/vnd.jupyter.widget-view+json": {
       "model_id": "ff06b6cb03644a13a904a87ad38d073d",
       "version_major": 2,
       "version_minor": 0
      },
      "text/plain": [
       "Text(value='', description='student code:', placeholder='')"
      ]
     },
     "metadata": {},
     "output_type": "display_data"
    },
    {
     "data": {
      "application/vnd.jupyter.widget-view+json": {
       "model_id": "4566e5e85e374f58a535767987509b35",
       "version_major": 2,
       "version_minor": 0
      },
      "text/plain": [
       "Button(description='Join Session', style=ButtonStyle())"
      ]
     },
     "metadata": {},
     "output_type": "display_data"
    },
    {
     "data": {
      "application/vnd.jupyter.widget-view+json": {
       "model_id": "1144ed87e5404f21ad7af44fdc5857bb",
       "version_major": 2,
       "version_minor": 0
      },
      "text/plain": [
       "Text(value='', description='Group name:', placeholder='')"
      ]
     },
     "metadata": {},
     "output_type": "display_data"
    },
    {
     "name": "stdout",
     "output_type": "stream",
     "text": [
      "Connectin to mqtt20.iik.ntnu.no:1883\n"
     ]
    },
    {
     "name": "stdout",
     "output_type": "stream",
     "text": [
      "on_connect(): Connection Accepted.\n",
      "Text(value='4242', description='student code:', placeholder='')\n",
      "on_message(): topic: join\n",
      "on_message(): topic: join\n",
      "Correct code, session joined\n",
      "Sucsessfully unsubscribed to: join\n",
      "Sucsessfully subscribed to: team02/69420/help\n",
      "Sucsessfully subscribed to: team02/69420/update\n"
     ]
    },
    {
     "data": {
      "application/vnd.jupyter.widget-view+json": {
       "model_id": "bb532fd9d728495c85ecc4c9af45380a",
       "version_major": 2,
       "version_minor": 0
      },
      "text/plain": [
       "IntText(value=1, description='Task', disabled=True)"
      ]
     },
     "metadata": {},
     "output_type": "display_data"
    },
    {
     "data": {
      "application/vnd.jupyter.widget-view+json": {
       "model_id": "34ee529d363b4e49830ca332281cc96e",
       "version_major": 2,
       "version_minor": 0
      },
      "text/plain": [
       "Button(description='Get help', style=ButtonStyle())"
      ]
     },
     "metadata": {},
     "output_type": "display_data"
    },
    {
     "data": {
      "application/vnd.jupyter.widget-view+json": {
       "model_id": "903882becd9f4317aaf36e1e4efa1744",
       "version_major": 2,
       "version_minor": 0
      },
      "text/plain": [
       "Button(description='Finish task', style=ButtonStyle())"
      ]
     },
     "metadata": {},
     "output_type": "display_data"
    },
    {
     "data": {
      "application/vnd.jupyter.widget-view+json": {
       "model_id": "842ddd02d98d498cbea5317edc84a04d",
       "version_major": 2,
       "version_minor": 0
      },
      "text/plain": [
       "IntProgress(value=1, description='Progress', max=5, min=1)"
      ]
     },
     "metadata": {},
     "output_type": "display_data"
    },
    {
     "data": {
      "application/vnd.jupyter.widget-view+json": {
       "model_id": "03761f12371a4456bf3c6d1c35142ec1",
       "version_major": 2,
       "version_minor": 0
      },
      "text/plain": [
       "Button(description='Leave Session', style=ButtonStyle())"
      ]
     },
     "metadata": {},
     "output_type": "display_data"
    },
    {
     "data": {
      "application/vnd.jupyter.widget-view+json": {
       "model_id": "7cf8bff598a54883ad6f3ae4d6e7f94b",
       "version_major": 2,
       "version_minor": 0
      },
      "text/plain": [
       "Text(value='Not in queue', description='Queue nr.', disabled=True, placeholder='')"
      ]
     },
     "metadata": {},
     "output_type": "display_data"
    },
    {
     "name": "stdout",
     "output_type": "stream",
     "text": [
      "Setting up lab...\n",
      "Asking for help\n",
      "on_message(): topic: team02/69420/help\n",
      "Finished with task 2\n",
      "on_message(): topic: team02/69420/update\n",
      "Finished with task 3\n",
      "on_message(): topic: team02/69420/update\n",
      "Finished with task 4\n",
      "on_message(): topic: team02/69420/update\n",
      "Asking for help\n",
      "on_message(): topic: team02/69420/help\n",
      "Finished with task 5\n",
      "on_message(): topic: team02/69420/update\n"
     ]
    },
    {
     "data": {
      "application/vnd.jupyter.widget-view+json": {
       "model_id": "d45ae62d5df9486f9b3b143d869af7eb",
       "version_major": 2,
       "version_minor": 0
      },
      "text/plain": [
       "Button(description='Join Session', style=ButtonStyle())"
      ]
     },
     "metadata": {},
     "output_type": "display_data"
    },
    {
     "data": {
      "application/vnd.jupyter.widget-view+json": {
       "model_id": "198aa5f24b3d4609957a67aa1315e3d5",
       "version_major": 2,
       "version_minor": 0
      },
      "text/plain": [
       "Text(value='', description='student code:', placeholder='')"
      ]
     },
     "metadata": {},
     "output_type": "display_data"
    },
    {
     "name": "stdout",
     "output_type": "stream",
     "text": [
      "on_message(): topic: team02/69420/update\n"
     ]
    },
    {
     "data": {
      "application/vnd.jupyter.widget-view+json": {
       "model_id": "d45ae62d5df9486f9b3b143d869af7eb",
       "version_major": 2,
       "version_minor": 0
      },
      "text/plain": [
       "Button(description='Join Session', style=ButtonStyle())"
      ]
     },
     "metadata": {},
     "output_type": "display_data"
    },
    {
     "data": {
      "application/vnd.jupyter.widget-view+json": {
       "model_id": "f0a145d2874f496695a1c2d2140781f8",
       "version_major": 2,
       "version_minor": 0
      },
      "text/plain": [
       "Text(value='', description='Group name:', placeholder='')"
      ]
     },
     "metadata": {},
     "output_type": "display_data"
    }
   ],
   "source": [
    "student = Student()\n",
    "state_machine = Machine(transitions=[t0, t1, t2, t3, t4, t5, t6, t7, t8], states=[idle, wait, lab_session_active], obj=student, name=\"student\")\n",
    "student.stm = state_machine\n",
    "\n",
    "driver = Driver()\n",
    "driver.add_machine(state_machine)\n",
    "\n",
    "myclient = MQTT_Client_1(student)\n",
    "student.mqtt_client = myclient.client\n",
    "myclient.stm_driver = driver\n",
    "\n",
    "driver.start()\n",
    "myclient.start(BROKER, PORT)"
   ]
  }
 ],
 "metadata": {
  "kernelspec": {
   "display_name": "Python 3",
   "language": "python",
   "name": "python3"
  },
  "language_info": {
   "codemirror_mode": {
    "name": "ipython",
    "version": 3
   },
   "file_extension": ".py",
   "mimetype": "text/x-python",
   "name": "python",
   "nbconvert_exporter": "python",
   "pygments_lexer": "ipython3",
   "version": "3.9.13"
  },
  "orig_nbformat": 4
 },
 "nbformat": 4,
 "nbformat_minor": 2
}
