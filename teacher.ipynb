{
 "cells": [
  {
   "cell_type": "code",
   "execution_count": 1,
   "metadata": {},
   "outputs": [],
   "source": [
    "from threading import Thread\n",
    "import json\n",
    "from stmpy import Machine, Driver\n",
    "import paho.mqtt.client as mqtt\n",
    "from utils import BROKER, PORT, TOPIC\n",
    "\n",
    "\n",
    "class MQTT_Client_1:\n",
    "    def __init__(self, stm):\n",
    "        self.state_machine = stm\n",
    "        self.count = 0\n",
    "        self.client = mqtt.Client()\n",
    "        self.client.on_connect = self.on_connect\n",
    "        self.client.on_message = self.on_message\n",
    "        self.stm_driver: Driver = None\n",
    "\n",
    "    def on_connect(self, client, userdata, flags, rc):\n",
    "        print(\"on_connect(): {}\".format(mqtt.connack_string(rc)))\n",
    "\n",
    "    def on_message(self, client, userdata, msg):\n",
    "        try:\n",
    "            message = json.loads(msg.payload.decode('utf-8'))[\"msg\"]\n",
    "        except json.decoder.JSONDecodeError:\n",
    "            return\n",
    "                    \n",
    "        print(\"on_message(): topic: {}\".format(msg.topic))\n",
    "\n",
    "        if message == \"session_created\":\n",
    "            self.stm_driver.send(\"session_created\", \"teacher\")\n",
    "        \n",
    "    def start(self, broker, port):\n",
    "        print(\"Connecting to {}:{}\".format(broker, port))\n",
    "        self.client.connect(broker, port)\n",
    "        self.client.subscribe(TOPIC)\n",
    "\n",
    "        try:\n",
    "            thread = Thread(target=self.client.loop_forever)\n",
    "            thread.start()\n",
    "        except KeyboardInterrupt:\n",
    "            print(\"Interrupted\")\n",
    "            self.client.disconnect()"
   ]
  },
  {
   "cell_type": "code",
   "execution_count": 2,
   "metadata": {},
   "outputs": [],
   "source": [
    "from stmpy import Driver, Machine\n",
    "from threading import Thread\n",
    "import paho.mqtt.client as mqtt\n",
    "import ipywidgets as widgets\n",
    "from IPython.display import display\n",
    "import random\n",
    "\n",
    "class Teacher:\n",
    "    def __init__(self):\n",
    "        self.button_create = widgets.Button(description=\"Create Session\")\n",
    "        self.button_create.on_click(self.create_session)\n",
    "        self.button_join = widgets.Button(description=\"Join Session\")\n",
    "        self.button_join.on_click(self.join_session)\n",
    "\n",
    "        self.mqtt_client: mqtt.Client = None\n",
    "        self.stm: Machine = None\n",
    "        \n",
    "        # text field\n",
    "        self.ta_code = widgets.Text(value='', placeholder='', description='TA code:', disabled=False)\n",
    "        display(self.button_create, self.ta_code, self.button_join)\n",
    "\n",
    "        display()\n",
    "\n",
    "    def create_session(self, b):\n",
    "        \"\"\"\n",
    "        Create session. Send message to server and receive codes indicating the session\n",
    "        has been created.\n",
    "        \"\"\"\n",
    "        self.stm.send(\"start_session\")\n",
    "        pass\n",
    "    \n",
    "    def join_session(self, b):\n",
    "        \"\"\"Join an already existing session using a TA code.\"\"\"\n",
    "\n",
    "        pass\n",
    "    \n",
    "    def in_wait(self):\n",
    "        \"\"\"Called upon entering wait-state.\"\"\"\n",
    "        print(\"In wait-state\")\n",
    "        return\n",
    "    \n",
    "    def in_lab_session_active(self):\n",
    "        \"\"\"Called upon entering lab_sesssion_active-state.\"\"\"\n",
    "        self.button_help = widgets.Button(description=\"Help\")\n",
    "        self.button_help.on_click(self.help)\n",
    "        self.button_end = widgets.Button(description=\"End lab session\")\n",
    "        self.button_end.on_click(self.end_session)\n",
    "        display(self.button_help, self.button_end)\n",
    "\n",
    "        print(\"In lab_sesssion_active-state\")\n",
    "\n",
    "    def in_help(self):\n",
    "        \"\"\"Called upon entering help-state.\"\"\"  \n",
    "        self.button_help = widgets.Button(description=\"Finished Helping\")\n",
    "        self.button_help.on_click(self.finish_help)\n",
    "        display(self.button_help)\n",
    "\n",
    "    def help(self, b):\n",
    "        \"\"\"Called when Help-button is pressed in lab_session_active\"\"\"\n",
    "        # Inform server that group is receiving help.\n",
    "        print(b)\n",
    "        self.mqtt_client.publish(TOPIC, \"helping\")\n",
    "        self.stm.send(\"help_group\")\n",
    "\n",
    "    def finish_help(self, b):\n",
    "        \"\"\"Called when Finished Help-button is pressed in help\"\"\"\n",
    "        # Inform server that group has been helped successfully.\n",
    "        self.mqtt_client.publish(TOPIC, \"finished helping\")\n",
    "        self.stm.send(\"finish_help\")\n",
    "\n",
    "    def end_session(self, b):\n",
    "        \"\"\"Called when End Session-button is pressed in lab_session_active\"\"\"\n",
    "        # Commit Sudoku\n",
    "        self.stm.send(\"end_lab\")\n",
    "        \n",
    "\n",
    "# initial transition\n",
    "t0 = {'source': 'initial',\n",
    "      'target': 'idle'}\n",
    "\n",
    "# transitions\n",
    "t1 = {'trigger':'start_session', \n",
    "      'source':'idle', \n",
    "      'target':'wait'}\n",
    "t2 = {'trigger':'session_created', \n",
    "      'source':'wait', \n",
    "      'target':'lab_session_active'}\n",
    "\n",
    "t3 = {'trigger':'help_group', \n",
    "      'source':'lab_session_active', \n",
    "      'target':'help'}\n",
    "t4 = {'trigger':'finish_help', \n",
    "      'source':'help', \n",
    "      'target':'lab_session_active'}\n",
    "\n",
    "t5 = {'trigger':'task_done', \n",
    "      'source':'lab_session_active', \n",
    "      'target':'lab_session_active'}\n",
    "t6 = {'trigger':'update_queue', \n",
    "      'source':'lab_session_active', \n",
    "      'target':'lab_session_active'}\n",
    "\n",
    "t7 = {'trigger':'end_lab', \n",
    "      'source':'lab_session_active', \n",
    "      'target':'exit'}\n",
    " \n",
    "# the states:\n",
    "idle = {'name': 'idle'}\n",
    "\n",
    "wait = {'name': 'wait',\n",
    "        'entry': 'in_wait'}\n",
    "\n",
    "lab_session_active = {'name': 'lab_session_active',\n",
    "        'entry': 'in_lab_session_active'}\n",
    "\n",
    "help = {'name': 'help',\n",
    "        'entry': 'in_help'}\n",
    "\n"
   ]
  },
  {
   "cell_type": "code",
   "execution_count": 3,
   "metadata": {},
   "outputs": [
    {
     "data": {
      "application/vnd.jupyter.widget-view+json": {
       "model_id": "5a3cde3bdb8a4820afc2454261e31558",
       "version_major": 2,
       "version_minor": 0
      },
      "text/plain": [
       "Button(description='Create Session', style=ButtonStyle())"
      ]
     },
     "metadata": {},
     "output_type": "display_data"
    },
    {
     "data": {
      "application/vnd.jupyter.widget-view+json": {
       "model_id": "87b8b6347051430583b26c01d53f2f2f",
       "version_major": 2,
       "version_minor": 0
      },
      "text/plain": [
       "Text(value='', description='TA code:', placeholder='')"
      ]
     },
     "metadata": {},
     "output_type": "display_data"
    },
    {
     "data": {
      "application/vnd.jupyter.widget-view+json": {
       "model_id": "129ec134728241d0be878db76ebad727",
       "version_major": 2,
       "version_minor": 0
      },
      "text/plain": [
       "Button(description='Join Session', style=ButtonStyle())"
      ]
     },
     "metadata": {},
     "output_type": "display_data"
    },
    {
     "name": "stdout",
     "output_type": "stream",
     "text": [
      "Connecting to mqtt20.iik.ntnu.no:1883\n"
     ]
    },
    {
     "name": "stdout",
     "output_type": "stream",
     "text": [
      "on_connect(): Connection Accepted.\n",
      "on_message(): topic: team02\n",
      "on_message(): topic: team02\n",
      "on_message(): topic: team02\n",
      "In wait-state\n"
     ]
    },
    {
     "name": "stderr",
     "output_type": "stream",
     "text": [
      "Machine teacher is in state wait and received event start_session, but no transition with this event is declared!\n"
     ]
    },
    {
     "name": "stdout",
     "output_type": "stream",
     "text": [
      "on_message(): topic: team02\n",
      "on_message(): topic: team02\n",
      "on_message(): topic: team02\n",
      "on_connect(): Connection Accepted.\n",
      "on_connect(): Connection Accepted.\n"
     ]
    },
    {
     "name": "stderr",
     "output_type": "stream",
     "text": [
      "Machine teacher is in state wait and received event start_session, but no transition with this event is declared!\n",
      "Machine teacher is in state wait and received event start_session, but no transition with this event is declared!\n",
      "Machine teacher is in state wait and received event start_session, but no transition with this event is declared!\n",
      "Machine teacher is in state wait and received event start_session, but no transition with this event is declared!\n",
      "Machine teacher is in state wait and received event start_session, but no transition with this event is declared!\n",
      "Machine teacher is in state wait and received event start_session, but no transition with this event is declared!\n",
      "Machine teacher is in state wait and received event start_session, but no transition with this event is declared!\n",
      "Machine teacher is in state wait and received event start_session, but no transition with this event is declared!\n",
      "Machine teacher is in state wait and received event start_session, but no transition with this event is declared!\n",
      "Machine teacher is in state wait and received event start_session, but no transition with this event is declared!\n"
     ]
    }
   ],
   "source": [
    "teacher = Teacher()\n",
    "state_machine = Machine(transitions=[t0, t1, t2, t3, t4, t5, t6, t7], states=[idle, wait, lab_session_active, help], obj=teacher, name=\"teacher\")\n",
    "teacher.stm = state_machine\n",
    "\n",
    "driver = Driver()\n",
    "driver.add_machine(state_machine)\n",
    "\n",
    "myclient = MQTT_Client_1(teacher)\n",
    "teacher.mqtt_client = myclient.client\n",
    "myclient.stm_driver = driver\n",
    "\n",
    "driver.start()\n",
    "myclient.start(BROKER, PORT)"
   ]
  },
  {
   "cell_type": "code",
   "execution_count": null,
   "metadata": {},
   "outputs": [],
   "source": []
  },
  {
   "cell_type": "code",
   "execution_count": null,
   "metadata": {},
   "outputs": [],
   "source": []
  }
 ],
 "metadata": {
  "kernelspec": {
   "display_name": "venv",
   "language": "python",
   "name": "python3"
  },
  "language_info": {
   "codemirror_mode": {
    "name": "ipython",
    "version": 3
   },
   "file_extension": ".py",
   "mimetype": "text/x-python",
   "name": "python",
   "nbconvert_exporter": "python",
   "pygments_lexer": "ipython3",
   "version": "3.9.13"
  },
  "orig_nbformat": 4
 },
 "nbformat": 4,
 "nbformat_minor": 2
}
