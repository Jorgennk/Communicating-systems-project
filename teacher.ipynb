{
 "cells": [
  {
   "cell_type": "code",
   "execution_count": 1,
   "metadata": {},
   "outputs": [],
   "source": [
    "from threading import Thread\n",
    "import json\n",
    "from stmpy import Machine, Driver\n",
    "import paho.mqtt.client as mqtt\n",
    "from utils import BROKER, PORT, TOPIC, QUEUE_TOPIC, HELP_TOPIC, JOIN_TOPIC\n",
    "from stmpy import Driver, Machine\n",
    "from threading import Thread\n",
    "import paho.mqtt.client as mqtt\n",
    "import ipywidgets as widgets\n",
    "from IPython.display import display\n",
    "\n",
    "\n",
    "class MQTT_Client_1:\n",
    "    def __init__(self, teacher):\n",
    "        self.teacher: Teacher = teacher\n",
    "        self.count = 0\n",
    "        self.client = mqtt.Client()\n",
    "        self.client.on_connect = self.on_connect\n",
    "        self.client.on_message = self.on_message\n",
    "        self.stm_driver: Driver = None\n",
    "\n",
    "\n",
    "    def on_connect(self, client, userdata, flags, rc):\n",
    "        \"\"\"Called upon connecting\"\"\"\n",
    "        print(f\"on_connect(): {mqtt.connack_string(rc)}\")\n",
    "\n",
    "\n",
    "    def on_message(self, client, userdata, msg):\n",
    "        \"\"\"Called when receiving a message\"\"\"\n",
    "        # Decode Json-message and ignore non-json formatted messages.\n",
    "        try:\n",
    "            message: dict = json.loads(msg.payload.decode('utf-8'))\n",
    "        except json.decoder.JSONDecodeError:\n",
    "            print(f\"=====\\nWARNING: Received message with incorrect formating:\\n{msg.payload}\\nIgnoring message...\\n=====\")\n",
    "            return\n",
    "        if \"msg\" not in message.keys():\n",
    "            print(f\"=====\\nWARNING: Json object does not contain the key 'msg':\\n{message}\\nIgnoring message...\\n=====\")\n",
    "            return\n",
    "                    \n",
    "        print(f\"on_message(): topic: {msg.topic}, msg: {message['msg']}\")\n",
    "\n",
    "        if msg.topic == f\"{TOPIC}/{JOIN_TOPIC}\":\n",
    "            self.setup_handler(message)\n",
    "        elif msg.topic == f\"{TOPIC}/{self.teacher.session_id}/{HELP_TOPIC}\":\n",
    "            self.help_handler(message)\n",
    "        elif msg.topic == f\"{TOPIC}/{self.teacher.session_id}/{QUEUE_TOPIC}\":\n",
    "            self.queue_handler(message)\n",
    "\n",
    "\n",
    "\n",
    "    def validate_recipient(self, message: dict) -> bool:\n",
    "        \"\"\"Validate that this client is the intended recipient of this message.\"\"\"\n",
    "        if \"ta_name\" in message.keys():\n",
    "            if message[\"ta_name\"] != self.teacher.ta_name:\n",
    "                print(f\"{message['ta_name']} is not {self.teacher.ta_name}\")\n",
    "                return False\n",
    "        elif \"group_name\" in message.keys():\n",
    "            return False\n",
    "\n",
    "        return True\n",
    "        \n",
    "\n",
    "    def subscribe_session_topics(self) -> None:\n",
    "        \"\"\"Subscribe to new topics after successfully joining a session\"\"\"\n",
    "        self.client.unsubscribe(f\"{TOPIC}/{JOIN_TOPIC}\")\n",
    "\n",
    "        self.client.subscribe(f\"{TOPIC}/{self.teacher.session_id}/{QUEUE_TOPIC}\")\n",
    "        self.client.subscribe(f\"{TOPIC}/{self.teacher.session_id}/{HELP_TOPIC}\")\n",
    "\n",
    "\n",
    "    def start(self, broker, port):\n",
    "        print(\"Connecting to {}:{}\".format(broker, port))\n",
    "        self.client.connect(broker, port)\n",
    "        self.client.subscribe(f\"{TOPIC}/{JOIN_TOPIC}\")\n",
    "\n",
    "        try:\n",
    "            thread = Thread(target=self.client.loop_forever)\n",
    "            thread.start()\n",
    "        except KeyboardInterrupt:\n",
    "            print(\"Interrupted\")\n",
    "            self.client.disconnect()\n",
    "\n",
    "    \n",
    "    def setup_handler(self, message: dict):\n",
    "        \"\"\"Handle messages in the setup-topic\"\"\"\n",
    "        # All messages in the setup topic are intended for one recipient, so validate that\n",
    "        # this particular message is for us:\n",
    "        if not self.validate_recipient(message):\n",
    "            return\n",
    "        \n",
    "        print(f\"Received '{message['msg']}'\")\n",
    "        \n",
    "        # NOTE: session_created and session_joined are handled the same way.\n",
    "        if message[\"msg\"] == \"session_created\" or message[\"msg\"] == \"session_joined\":            \n",
    "            self.teacher.session_id = message[\"session_id\"]\n",
    "            self.teacher.ta_code = message[\"ta_code\"]\n",
    "            self.teacher.student_code = message[\"student_code\"]\n",
    "\n",
    "            self.subscribe_session_topics()\n",
    "\n",
    "            self.stm_driver.send(\"session_created\", \"teacher\")\n",
    "\n",
    "        # Handle session_join_failed.\n",
    "        elif message[\"msg\"] == \"session_join_failed\":\n",
    "            self.teacher.error = message[\"error_message\"]\n",
    "            self.stm_driver.send(\"session_join_failed\", \"teacher\")\n",
    "\n",
    "    \n",
    "    def queue_handler(self, message: dict):\n",
    "        \"\"\"Handle messages in the queue-topic\"\"\"\n",
    "        if message[\"msg\"] == \"queue_update\":\n",
    "            self.teacher.queue = message[\"queue\"]\n",
    "            if self.teacher.queue_field:\n",
    "                self.teacher.queue_field.value = str(message[\"queue\"])\n",
    "\n",
    "    \n",
    "    def help_handler(self, message: dict):\n",
    "        \"\"\"Handle messages in the help-topic\"\"\"\n",
    "        pass\n",
    "    \n",
    "\n",
    "class Teacher:\n",
    "    def __init__(self):\n",
    "        # After creating/joining a session, these should be set.\n",
    "        self.session_id: int = None\n",
    "        self.ta_code: int = None\n",
    "        self.student_code: int = None\n",
    "        self.ta_name: str = None\n",
    "\n",
    "        self.mqtt_client: mqtt.Client = None\n",
    "        self.stm: Machine = None\n",
    "        \n",
    "        self.error = None\n",
    "        self.queue: list[str] = []\n",
    "\n",
    "\n",
    "    def __str__(self) -> str:\n",
    "        return f\"Session: {self.session_id}, TA-code: {self.ta_code}, Student-code: {self.student_code}\"\n",
    "\n",
    "\n",
    "    def create_session(self, b):\n",
    "        \"\"\"\n",
    "        Create session. Send message to server and receive codes indicating the session\n",
    "        has been created.\n",
    "        \"\"\"\n",
    "        if self.ta_name_field.value == None:\n",
    "            return\n",
    "        \n",
    "        self.ta_name = self.ta_name_field.value\n",
    "        \n",
    "        create_session = {\"msg\": \"create_session\", \"ta_name\": self.ta_name_field.value}\n",
    "        self.mqtt_client.publish(f\"{TOPIC}/{JOIN_TOPIC}\", json.dumps(create_session, indent=4))\n",
    "        \n",
    "        self.stm.send(\"start_session\")\n",
    "\n",
    "    \n",
    "\n",
    "    def join_session(self, b):\n",
    "        \"\"\"Join an already existing session using a TA code.\"\"\"\n",
    "        if not self.ta_code_field.value or not self.ta_name_field.value:\n",
    "            return\n",
    "        \n",
    "        self.ta_name = self.ta_name_field.value\n",
    "        \n",
    "        join_session = {\"msg\": \"join_session\", \"ta_code\": self.ta_code_field.value, \"ta_name\": self.ta_name_field.value}\n",
    "        self.mqtt_client.publish(f\"{TOPIC}/{JOIN_TOPIC}\", json.dumps(join_session, indent=4))\n",
    "\n",
    "        self.stm.send(\"start_session\")\n",
    "        \n",
    "\n",
    "    def in_idle(self):\n",
    "        \"\"\"Called upon entering idle-state.\"\"\"\n",
    "        print(f\"In idle-state: {self}\")\n",
    "        self.button_create = widgets.Button(description=\"Create Session\")\n",
    "        self.button_create.on_click(self.create_session)\n",
    "        self.button_join = widgets.Button(description=\"Join Session\")\n",
    "        self.button_join.on_click(self.join_session)\n",
    "        self.ta_code_field = widgets.Text(value='', placeholder='', description='TA code:', disabled=False)\n",
    "        self.ta_name_field = widgets.Text(value='', placeholder='', description='Name:', disabled=False)\n",
    "\n",
    "        error_field = widgets.Text(value=self.error, placeholder='', description='Error code:', disabled=True)\n",
    "\n",
    "        display(self.ta_name_field, self.button_create, self.ta_code_field, self.button_join, error_field)\n",
    "\n",
    "\n",
    "    def in_wait(self):\n",
    "        \"\"\"Called upon entering wait-state.\"\"\"\n",
    "        print(f\"In wait-state: {self}\")\n",
    "        return\n",
    "    \n",
    "\n",
    "    def in_lab_session_active(self):\n",
    "        \"\"\"Called upon entering lab_sesssion_active-state.\"\"\"\n",
    "        self.button_help = widgets.Button(description=\"Help\")\n",
    "        self.button_help.on_click(self.help)\n",
    "        self.button_end = widgets.Button(description=\"End lab session\")\n",
    "        self.button_end.on_click(self.end_session)\n",
    "\n",
    "        self.queue_field = widgets.Text(value=str(self.queue), placeholder=\"\", description='Queue:', disabled=True)\n",
    "\n",
    "        display(self.button_help, self.button_end, self.queue_field)\n",
    "        \n",
    "\n",
    "        print(f\"In lab_sesssion_active-state: {self}\")\n",
    "\n",
    "\n",
    "    def in_help(self):\n",
    "        \"\"\"Called upon entering help-state.\"\"\"  \n",
    "        self.button_help = widgets.Button(description=\"Finished Helping\")\n",
    "        self.button_help.on_click(self.finish_help)\n",
    "        display(self.button_help)\n",
    "\n",
    "        print(f\"In help-state: {self}\")\n",
    "\n",
    "\n",
    "    def help(self, b):\n",
    "        \"\"\"Called when Help-button is pressed in lab_session_active\"\"\"\n",
    "        # If queue is empty, there is noone to help.\n",
    "        if not self.queue:\n",
    "            return\n",
    "\n",
    "        # Inform server that group is receiving help.\n",
    "        provide_help = {\"msg\": \"provide_help\", \"ta_name\": self.ta_name, \"group_name\": self.queue[0]}\n",
    "        self.mqtt_client.publish(f\"{TOPIC}/{self.session_id}/{HELP_TOPIC}\", json.dumps(provide_help))\n",
    "        \n",
    "        self.stm.send(\"help_group\")\n",
    "\n",
    "\n",
    "    def finish_help(self, b):\n",
    "        \"\"\"Called when Finished Help-button is pressed in help\"\"\"\n",
    "        # Inform server that group has been helped successfully.\n",
    "        # NOTE: Probably no reason to inform the server about this, I suppose.\n",
    "        # self.mqtt_client.publish(f\"{TOPIC}/{self.session_id}/{HELP_TOPIC}\", \"finished helping\")\n",
    "        self.stm.send(\"finish_help\")\n",
    "\n",
    "\n",
    "    def end_session(self, b):\n",
    "        \"\"\"Called when End Session-button is pressed in lab_session_active\"\"\"\n",
    "        self.stm.send(\"end_lab\")\n"
   ]
  },
  {
   "cell_type": "code",
   "execution_count": 2,
   "metadata": {},
   "outputs": [],
   "source": [
    "# initial transition\n",
    "t0 = {'source': 'initial',\n",
    "      'target': 'idle'}\n",
    "\n",
    "# transitions\n",
    "t1 = {'trigger':'start_session', \n",
    "      'source':'idle', \n",
    "      'target':'wait'}\n",
    "t2 = {'trigger':'session_created', \n",
    "      'source':'wait', \n",
    "      'target':'lab_session_active'}\n",
    "t3 = {'trigger':'session_join_failed', \n",
    "      'source':'wait', \n",
    "      'target':'idle'}\n",
    "\n",
    "t4 = {'trigger':'help_group', \n",
    "      'source':'lab_session_active', \n",
    "      'target':'help'}\n",
    "t5 = {'trigger':'finish_help', \n",
    "      'source':'help', \n",
    "      'target':'lab_session_active'}\n",
    "\n",
    "t6 = {'trigger':'task_done', \n",
    "      'source':'lab_session_active', \n",
    "      'target':'lab_session_active'}\n",
    "t7 = {'trigger':'update_queue', \n",
    "      'source':'lab_session_active', \n",
    "      'target':'lab_session_active'}\n",
    "\n",
    "t8 = {'trigger':'end_lab', \n",
    "      'source':'lab_session_active', \n",
    "      'target':'exit'}\n",
    " \n",
    "# the states:\n",
    "idle = {'name': 'idle',\n",
    "        'entry': 'in_idle'}\n",
    "\n",
    "wait = {'name': 'wait',\n",
    "        'entry': 'in_wait'}\n",
    "\n",
    "lab_session_active = {'name': 'lab_session_active',\n",
    "        'entry': 'in_lab_session_active'}\n",
    "\n",
    "help = {'name': 'help',\n",
    "        'entry': 'in_help'}"
   ]
  },
  {
   "cell_type": "code",
   "execution_count": null,
   "metadata": {},
   "outputs": [
    {
     "name": "stdout",
     "output_type": "stream",
     "text": [
      "In idle-state: Session: None, TA-code: None, Student-code: None\n",
      "Connecting to mqtt20.iik.ntnu.no:1883\n"
     ]
    },
    {
     "data": {
      "application/vnd.jupyter.widget-view+json": {
       "model_id": "2daddb5b29b8498c9b4bd114573b8789",
       "version_major": 2,
       "version_minor": 0
      },
      "text/plain": [
       "Text(value='', description='Name:', placeholder='')"
      ]
     },
     "metadata": {},
     "output_type": "display_data"
    },
    {
     "data": {
      "application/vnd.jupyter.widget-view+json": {
       "model_id": "e06a62080273403eb5da9f333bb83b31",
       "version_major": 2,
       "version_minor": 0
      },
      "text/plain": [
       "Button(description='Create Session', style=ButtonStyle())"
      ]
     },
     "metadata": {},
     "output_type": "display_data"
    },
    {
     "data": {
      "application/vnd.jupyter.widget-view+json": {
       "model_id": "9d21eb78bdfe4149b819f77a843d8b1c",
       "version_major": 2,
       "version_minor": 0
      },
      "text/plain": [
       "Text(value='', description='TA code:', placeholder='')"
      ]
     },
     "metadata": {},
     "output_type": "display_data"
    },
    {
     "data": {
      "application/vnd.jupyter.widget-view+json": {
       "model_id": "2b2510e9194a488db7870ec25a41bba4",
       "version_major": 2,
       "version_minor": 0
      },
      "text/plain": [
       "Button(description='Join Session', style=ButtonStyle())"
      ]
     },
     "metadata": {},
     "output_type": "display_data"
    },
    {
     "data": {
      "application/vnd.jupyter.widget-view+json": {
       "model_id": "304cc420802e48f78d0c9ab8a3f6d56e",
       "version_major": 2,
       "version_minor": 0
      },
      "text/plain": [
       "Text(value='', description='Error code:', disabled=True, placeholder='')"
      ]
     },
     "metadata": {},
     "output_type": "display_data"
    },
    {
     "name": "stdout",
     "output_type": "stream",
     "text": [
      "on_connect(): Connection Accepted.\n"
     ]
    },
    {
     "name": "stdout",
     "output_type": "stream",
     "text": [
      "In wait-state: Session: None, TA-code: None, Student-code: None\n",
      "on_message(): topic: team02_testing/join, msg: create_session\n",
      "Received 'create_session'\n",
      "on_message(): topic: team02_testing/join, msg: session_created\n",
      "Received 'session_created'\n"
     ]
    },
    {
     "data": {
      "application/vnd.jupyter.widget-view+json": {
       "model_id": "0a74ef3224224f4b88e5dbc639435305",
       "version_major": 2,
       "version_minor": 0
      },
      "text/plain": [
       "Button(description='Help', style=ButtonStyle())"
      ]
     },
     "metadata": {},
     "output_type": "display_data"
    },
    {
     "data": {
      "application/vnd.jupyter.widget-view+json": {
       "model_id": "54ca152c7793483ba42758515ae69510",
       "version_major": 2,
       "version_minor": 0
      },
      "text/plain": [
       "Button(description='End lab session', style=ButtonStyle())"
      ]
     },
     "metadata": {},
     "output_type": "display_data"
    },
    {
     "data": {
      "application/vnd.jupyter.widget-view+json": {
       "model_id": "12338e0b62a4411091b913eced84b2c3",
       "version_major": 2,
       "version_minor": 0
      },
      "text/plain": [
       "Text(value='[]', description='Queue:', disabled=True, placeholder='')"
      ]
     },
     "metadata": {},
     "output_type": "display_data"
    },
    {
     "name": "stdout",
     "output_type": "stream",
     "text": [
      "In lab_sesssion_active-state: Session: 0, TA-code: 388, Student-code: 20928\n",
      "on_message(): topic: team02_testing/0/queue, msg: queue_update\n"
     ]
    },
    {
     "data": {
      "application/vnd.jupyter.widget-view+json": {
       "model_id": "6abc2c605ac64fc78973532582faef67",
       "version_major": 2,
       "version_minor": 0
      },
      "text/plain": [
       "Button(description='Finished Helping', style=ButtonStyle())"
      ]
     },
     "metadata": {},
     "output_type": "display_data"
    },
    {
     "name": "stdout",
     "output_type": "stream",
     "text": [
      "on_message(): topic: team02_testing/0/help, msg: provide_help\n",
      "In help-state: Session: 0, TA-code: 388, Student-code: 20928\n",
      "on_message(): topic: team02_testing/0/queue, msg: queue_update\n"
     ]
    },
    {
     "data": {
      "application/vnd.jupyter.widget-view+json": {
       "model_id": "07d738bc2dfb40559bf8ff5ac4562017",
       "version_major": 2,
       "version_minor": 0
      },
      "text/plain": [
       "Button(description='Help', style=ButtonStyle())"
      ]
     },
     "metadata": {},
     "output_type": "display_data"
    },
    {
     "data": {
      "application/vnd.jupyter.widget-view+json": {
       "model_id": "c62f9064522f4a04a6569a3ffc054e9a",
       "version_major": 2,
       "version_minor": 0
      },
      "text/plain": [
       "Button(description='End lab session', style=ButtonStyle())"
      ]
     },
     "metadata": {},
     "output_type": "display_data"
    },
    {
     "data": {
      "application/vnd.jupyter.widget-view+json": {
       "model_id": "7497c7c167d443cf879319ebd7e3e462",
       "version_major": 2,
       "version_minor": 0
      },
      "text/plain": [
       "Text(value=\"['Peder', 'Jonny']\", description='Queue:', disabled=True, placeholder='')"
      ]
     },
     "metadata": {},
     "output_type": "display_data"
    },
    {
     "name": "stdout",
     "output_type": "stream",
     "text": [
      "In lab_sesssion_active-state: Session: 0, TA-code: 388, Student-code: 20928\n"
     ]
    },
    {
     "data": {
      "application/vnd.jupyter.widget-view+json": {
       "model_id": "40d5a893ec83435c944590b514121b13",
       "version_major": 2,
       "version_minor": 0
      },
      "text/plain": [
       "Button(description='Finished Helping', style=ButtonStyle())"
      ]
     },
     "metadata": {},
     "output_type": "display_data"
    },
    {
     "name": "stdout",
     "output_type": "stream",
     "text": [
      "In help-state: Session: 0, TA-code: 388, Student-code: 20928\n",
      "on_message(): topic: team02_testing/0/help, msg: provide_help\n",
      "on_message(): topic: team02_testing/0/queue, msg: queue_update\n"
     ]
    },
    {
     "data": {
      "application/vnd.jupyter.widget-view+json": {
       "model_id": "8fc363564b594091abfb4f00ac84d06c",
       "version_major": 2,
       "version_minor": 0
      },
      "text/plain": [
       "Button(description='Help', style=ButtonStyle())"
      ]
     },
     "metadata": {},
     "output_type": "display_data"
    },
    {
     "data": {
      "application/vnd.jupyter.widget-view+json": {
       "model_id": "c67e09fbf7c744c7b38154d4ba33cf13",
       "version_major": 2,
       "version_minor": 0
      },
      "text/plain": [
       "Button(description='End lab session', style=ButtonStyle())"
      ]
     },
     "metadata": {},
     "output_type": "display_data"
    },
    {
     "data": {
      "application/vnd.jupyter.widget-view+json": {
       "model_id": "13897a7fedd3428db071984b54b2cbf4",
       "version_major": 2,
       "version_minor": 0
      },
      "text/plain": [
       "Text(value=\"['Jonny']\", description='Queue:', disabled=True, placeholder='')"
      ]
     },
     "metadata": {},
     "output_type": "display_data"
    },
    {
     "name": "stdout",
     "output_type": "stream",
     "text": [
      "In lab_sesssion_active-state: Session: 0, TA-code: 388, Student-code: 20928\n"
     ]
    },
    {
     "data": {
      "application/vnd.jupyter.widget-view+json": {
       "model_id": "d245a85071ea4d98bf8744c65fa3c99b",
       "version_major": 2,
       "version_minor": 0
      },
      "text/plain": [
       "Button(description='Finished Helping', style=ButtonStyle())"
      ]
     },
     "metadata": {},
     "output_type": "display_data"
    },
    {
     "name": "stdout",
     "output_type": "stream",
     "text": [
      "on_message(): topic: team02_testing/0/help, msg: provide_help\n",
      "In help-state: Session: 0, TA-code: 388, Student-code: 20928\n",
      "on_message(): topic: team02_testing/0/queue, msg: queue_update\n"
     ]
    },
    {
     "data": {
      "application/vnd.jupyter.widget-view+json": {
       "model_id": "e28f7f3597064d6ba085083713eee4aa",
       "version_major": 2,
       "version_minor": 0
      },
      "text/plain": [
       "Button(description='Help', style=ButtonStyle())"
      ]
     },
     "metadata": {},
     "output_type": "display_data"
    },
    {
     "data": {
      "application/vnd.jupyter.widget-view+json": {
       "model_id": "9c8e546bc7b3436db9dab633ce7f0452",
       "version_major": 2,
       "version_minor": 0
      },
      "text/plain": [
       "Button(description='End lab session', style=ButtonStyle())"
      ]
     },
     "metadata": {},
     "output_type": "display_data"
    },
    {
     "data": {
      "application/vnd.jupyter.widget-view+json": {
       "model_id": "2b172d806ef345f2b57b61a8330d2e9d",
       "version_major": 2,
       "version_minor": 0
      },
      "text/plain": [
       "Text(value='[]', description='Queue:', disabled=True, placeholder='')"
      ]
     },
     "metadata": {},
     "output_type": "display_data"
    },
    {
     "name": "stdout",
     "output_type": "stream",
     "text": [
      "In lab_sesssion_active-state: Session: 0, TA-code: 388, Student-code: 20928\n"
     ]
    }
   ],
   "source": [
    "teacher = Teacher()\n",
    "state_machine = Machine(transitions=[t0, t1, t2, t3, t4, t5, t6, t7, t8], states=[idle, wait, lab_session_active, help], obj=teacher, name=\"teacher\")\n",
    "teacher.stm = state_machine\n",
    "\n",
    "driver = Driver()\n",
    "driver.add_machine(state_machine)\n",
    "\n",
    "myclient = MQTT_Client_1(teacher)\n",
    "teacher.mqtt_client = myclient.client\n",
    "myclient.stm_driver = driver\n",
    "\n",
    "driver.start()\n",
    "myclient.start(BROKER, PORT)"
   ]
  },
  {
   "cell_type": "code",
   "execution_count": 4,
   "metadata": {},
   "outputs": [],
   "source": [
    "# TODO: Would be nice to be able to run two clients here at the same time. For some \n",
    "# reason they are interfering with eachother when set up like this.\n",
    "\n",
    "# teacher2 = Teacher()\n",
    "# state_machine2 = Machine(transitions=[t0, t1, t2, t3, t4, t5, t6, t7, t8], states=[idle, wait, lab_session_active, help], obj=teacher2, name=\"teacher\")\n",
    "# teacher2.stm = state_machine2\n",
    "\n",
    "# driver2 = Driver()\n",
    "# driver2.add_machine(state_machine2)\n",
    "\n",
    "# myclient2 = MQTT_Client_1(teacher2)\n",
    "# teacher2.mqtt_client = myclient2.client\n",
    "# myclient2.stm_driver = driver2\n",
    "\n",
    "# driver2.start()\n",
    "# myclient2.start(BROKER, PORT)"
   ]
  }
 ],
 "metadata": {
  "kernelspec": {
   "display_name": "Python 3 (ipykernel)",
   "language": "python",
   "name": "python3"
  },
  "language_info": {
   "codemirror_mode": {
    "name": "ipython",
    "version": 3
   },
   "file_extension": ".py",
   "mimetype": "text/x-python",
   "name": "python",
   "nbconvert_exporter": "python",
   "pygments_lexer": "ipython3",
   "version": "3.10.6"
  }
 },
 "nbformat": 4,
 "nbformat_minor": 2
}
