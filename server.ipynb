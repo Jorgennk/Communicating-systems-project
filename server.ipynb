{
 "cells": [
  {
   "cell_type": "code",
   "execution_count": 7,
   "metadata": {},
   "outputs": [],
   "source": [
    "from threading import Thread\n",
    "import json\n",
    "from stmpy import Machine, Driver\n",
    "import paho.mqtt.client as mqtt\n",
    "from utils import BROKER, PORT, TOPIC\n",
    "\n",
    "\n",
    "class MQTT_Client_1:\n",
    "    def __init__(self, stm):\n",
    "        self.state_machine = stm\n",
    "        self.count = 0\n",
    "        self.client = mqtt.Client()\n",
    "        self.client.on_connect = self.on_connect\n",
    "        self.client.on_message = self.on_message\n",
    "\n",
    "    def on_connect(self, client, userdata, flags, rc):\n",
    "        print(\"on_connect(): {}\".format(mqtt.connack_string(rc)))\n",
    "\n",
    "    def on_message(self, client, userdata, msg):\n",
    "        try:\n",
    "            message = json.loads(msg.payload.decode('utf-8'))[\"msg\"]\n",
    "        except json.decoder.JSONDecodeError:\n",
    "            return\n",
    "                    \n",
    "        print(\"on_message(): topic: {}\".format(msg.topic))\n",
    "        \n",
    "        if message == \"session_created\":\n",
    "            self.stm_driver.send(\"session_created\", \"teacher\")\n",
    "\n",
    "\n",
    "        \n",
    "    def start(self, broker, port):\n",
    "        print(\"Connecting to {}:{}\".format(broker, port))\n",
    "        self.client.connect(broker, port)\n",
    "        self.client.subscribe(TOPIC)\n",
    "\n",
    "        try:\n",
    "            thread = Thread(target=self.client.loop_forever)\n",
    "            thread.start()\n",
    "        except KeyboardInterrupt:\n",
    "            print(\"Interrupted\")\n",
    "            self.client.disconnect()"
   ]
  },
  {
   "cell_type": "code",
   "execution_count": 8,
   "metadata": {},
   "outputs": [],
   "source": [
    "from stmpy import Driver, Machine\n",
    "from threading import Thread\n",
    "import json\n",
    "from stmpy import Machine, Driver\n",
    "import ipywidgets as widgets\n",
    "from IPython.display import display\n",
    "import random\n",
    "\n",
    "\n",
    "\n",
    "## STUDENT tar utgangpunkt i at den mottar kodeordet \"Valid code\" fra server når den kobler seg til en session med riktig kode\n",
    "\n",
    "class Server:\n",
    "    def __init__(self):\n",
    "        self.mqtt_client: mqtt.Client = None\n",
    "        self.queue = []\n",
    "\n",
    "        # Generate codes:\n",
    "        # TODO: Obviously codes can now collide, so this shouldn't be done here at all.\n",
    "        self.student_code = random.randint(0, 99999)\n",
    "        self.ta_code = random.randint(0, 99999)\n",
    "\n",
    "\n",
    "    def create_session(self):\n",
    "        session_created = {\"msg\": \"session_created\", \"ta_code\": self.ta_code, \"student_code\": self.student_code}\n",
    "        self.mqtt_client.publish(TOPIC, json.dumps(session_created, indent=4))\n",
    "    \n",
    "    def add_queue(self, SID):\n",
    "        if SID not in self.queue:\n",
    "            self.queue.append(SID)\n",
    "\n",
    "    def pop_queue(self, SID):\n",
    "        self.queue.remove(SID)\n",
    "\n",
    "\n",
    "    \n",
    "\n",
    "    \n"
   ]
  },
  {
   "cell_type": "code",
   "execution_count": 9,
   "metadata": {},
   "outputs": [
    {
     "ename": "AttributeError",
     "evalue": "'NoneType' object has no attribute 'publish'",
     "output_type": "error",
     "traceback": [
      "\u001b[1;31m---------------------------------------------------------------------------\u001b[0m",
      "\u001b[1;31mAttributeError\u001b[0m                            Traceback (most recent call last)",
      "Cell \u001b[1;32mIn[9], line 1\u001b[0m\n\u001b[1;32m----> 1\u001b[0m server \u001b[39m=\u001b[39m Server()\n\u001b[0;32m      2\u001b[0m myclient \u001b[39m=\u001b[39m MQTT_Client_1(server)\n\u001b[0;32m      3\u001b[0m server\u001b[39m.\u001b[39mmqtt_client \u001b[39m=\u001b[39m myclient\u001b[39m.\u001b[39mclient\n",
      "Cell \u001b[1;32mIn[8], line 22\u001b[0m, in \u001b[0;36mServer.__init__\u001b[1;34m(self)\u001b[0m\n\u001b[0;32m     19\u001b[0m \u001b[39mself\u001b[39m\u001b[39m.\u001b[39mta_code \u001b[39m=\u001b[39m random\u001b[39m.\u001b[39mrandint(\u001b[39m0\u001b[39m, \u001b[39m99999\u001b[39m)\n\u001b[0;32m     21\u001b[0m session_created \u001b[39m=\u001b[39m {\u001b[39m\"\u001b[39m\u001b[39mmsg\u001b[39m\u001b[39m\"\u001b[39m: \u001b[39m\"\u001b[39m\u001b[39msession_created\u001b[39m\u001b[39m\"\u001b[39m, \u001b[39m\"\u001b[39m\u001b[39mta_code\u001b[39m\u001b[39m\"\u001b[39m: \u001b[39mself\u001b[39m\u001b[39m.\u001b[39mta_code, \u001b[39m\"\u001b[39m\u001b[39mstudent_code\u001b[39m\u001b[39m\"\u001b[39m: \u001b[39mself\u001b[39m\u001b[39m.\u001b[39mstudent_code}\n\u001b[1;32m---> 22\u001b[0m \u001b[39mself\u001b[39;49m\u001b[39m.\u001b[39;49mmqtt_client\u001b[39m.\u001b[39;49mpublish(TOPIC, json\u001b[39m.\u001b[39mdumps(session_created, indent\u001b[39m=\u001b[39m\u001b[39m4\u001b[39m))\n",
      "\u001b[1;31mAttributeError\u001b[0m: 'NoneType' object has no attribute 'publish'"
     ]
    }
   ],
   "source": [
    "\n",
    "\n",
    "server = Server()\n",
    "myclient = MQTT_Client_1(server)\n",
    "server.mqtt_client = myclient.client\n",
    "\n",
    "myclient.start(BROKER, PORT)\n",
    "\n"
   ]
  }
 ],
 "metadata": {
  "kernelspec": {
   "display_name": "venv",
   "language": "python",
   "name": "python3"
  },
  "language_info": {
   "codemirror_mode": {
    "name": "ipython",
    "version": 3
   },
   "file_extension": ".py",
   "mimetype": "text/x-python",
   "name": "python",
   "nbconvert_exporter": "python",
   "pygments_lexer": "ipython3",
   "version": "3.10.6"
  },
  "orig_nbformat": 4
 },
 "nbformat": 4,
 "nbformat_minor": 2
}
