{
 "cells": [
  {
   "cell_type": "code",
   "execution_count": null,
   "metadata": {},
   "outputs": [],
   "source": [
    "from stmpy import Driver, Machine\n",
    "from threading import Thread\n",
    "import paho.mqtt.client as mqtt\n",
    "import json\n",
    "from stmpy import Machine, Driver\n",
    "import ipywidgets as widgets\n",
    "from IPython.display import display\n",
    "import random\n",
    "\n",
    "\n",
    "\n",
    "class Server:\n",
    "    def __init__(self):\n",
    "        self.button_ask = widgets.Button(description=\"Ask\")\n",
    "        self.button_ask.on_click(self.on_button_ask)\n",
    "        self.answered = \"\"\n",
    "        self.message = \"\"\n",
    "        # text field\n",
    "        self.text = widgets.Text(value='', placeholder='', description='String:', disabled=False)\n",
    "        display(self.text, self.button_ask)\n",
    "    \n",
    "    def on_button_ask(self, b):\n",
    "        self.stm.send('ask') # <---- here we send a message\n",
    "        print(self.text.value)\n",
    "        \n",
    "    def on_idle(self):\n",
    "        print(\"idle\")\n",
    "        self.text.set_trait(name='value', value='idle...')\n",
    "\n",
    "    def on_asking(self):\n",
    "        print(\"asking\")\n",
    "        self.text.set_trait(name='value', value='asking!')\n",
    "        \n",
    "    def on_received(self, message):\n",
    "        print(\"received\")\n",
    "        self.answered = self.message\n",
    "        self.text.set_trait(name='value', value=f\"{self.message}\")\n",
    "    \n",
    "    def send_mqtt_tick(self):\n",
    "        print(\"Tick! {}\".format(self.ticks))\n",
    "        self.ticks = self.ticks + 1\n",
    "        self.mqtt_client.publish(\"tick\", self.ticks)\n",
    "\n",
    "    def send_mqtt_tock(self):\n",
    "        print(\"Tock! {}\".format(self.tocks))\n",
    "        self.tocks = self.tocks + 1\n",
    "        self.mqtt_client.publish(\"tock\", self.ticks)\n",
    "\n",
    "# initial transition\n",
    "t0 = {'source': 'initial',\n",
    "      'target': 'idle'}\n",
    "\n",
    "# transitions\n",
    "t1 = {'trigger':'ask', \n",
    "      'source':'idle', \n",
    "      'target':'asking'}\n",
    "t2 = {'trigger':'t', \n",
    "      'source':'asking', \n",
    "      'target':'idle'}\n",
    "t3 = {'trigger':'t', \n",
    "      'source':'received', \n",
    "      'target':'idle'}\n",
    "t4 = {'trigger':'message', \n",
    "      'source':'asking', \n",
    "      'target':'received'}\n",
    "t5 = {'trigger':'reset', \n",
    "      'source':'asking', \n",
    "      'target':'idle'}\n",
    "\n",
    " \n",
    "# the states:\n",
    "idle = {'name': 'idle',\n",
    "       'entry': 'on_idle'}\n",
    "\n",
    "asking = {'name': 'asking',\n",
    "        'entry': 'on_asking; start_timer(\"t\", 20000)'}\n",
    "\n",
    "received = {'name': 'received',\n",
    "        'entry': 'on_received; stop_timer(\"t\")'}\n",
    "\n"
   ]
  },
  {
   "cell_type": "code",
   "execution_count": 3,
   "metadata": {},
   "outputs": [
    {
     "data": {
      "application/vnd.jupyter.widget-view+json": {
       "model_id": "ed23aea5a8774c85afbbbae971b1980a",
       "version_major": 2,
       "version_minor": 0
      },
      "text/plain": [
       "Text(value='', description='String:', placeholder='')"
      ]
     },
     "metadata": {},
     "output_type": "display_data"
    },
    {
     "data": {
      "application/vnd.jupyter.widget-view+json": {
       "model_id": "ba67105dc57449d29e812846df2db9de",
       "version_major": 2,
       "version_minor": 0
      },
      "text/plain": [
       "Button(description='Ask', style=ButtonStyle())"
      ]
     },
     "metadata": {},
     "output_type": "display_data"
    }
   ],
   "source": [
    "server = Server()"
   ]
  }
 ],
 "metadata": {
  "kernelspec": {
   "display_name": "venv",
   "language": "python",
   "name": "python3"
  },
  "language_info": {
   "codemirror_mode": {
    "name": "ipython",
    "version": 3
   },
   "file_extension": ".py",
   "mimetype": "text/x-python",
   "name": "python",
   "nbconvert_exporter": "python",
   "pygments_lexer": "ipython3",
   "version": "3.10.6"
  },
  "orig_nbformat": 4
 },
 "nbformat": 4,
 "nbformat_minor": 2
}
