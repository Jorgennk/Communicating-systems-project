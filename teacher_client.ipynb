{
 "cells": [
  {
   "cell_type": "code",
   "execution_count": null,
   "metadata": {},
   "outputs": [],
   "source": [
    "from teacher_stm import TEACHER_TRANSITIONS, TEACHER_STATES\n",
    "from teacher import Teacher, MQTT_Teacher_Client\n",
    "from utils import BROKER, PORT\n",
    "from stmpy import Driver, Machine\n",
    "\n",
    "\n",
    "teacher = Teacher()\n",
    "state_machine = Machine(transitions=TEACHER_TRANSITIONS, states=TEACHER_STATES, obj=teacher, name=\"teacher\")\n",
    "teacher.stm = state_machine\n",
    "\n",
    "driver = Driver()\n",
    "driver.add_machine(state_machine)\n",
    "\n",
    "myclient = MQTT_Teacher_Client(teacher)\n",
    "teacher.mqtt_client = myclient.client\n",
    "myclient.stm_driver = driver\n",
    "\n",
    "driver.start()\n",
    "myclient.start(BROKER, PORT)"
   ]
  }
 ],
 "metadata": {
  "kernelspec": {
   "display_name": "venv",
   "language": "python",
   "name": "python3"
  },
  "language_info": {
   "codemirror_mode": {
    "name": "ipython",
    "version": 3
   },
   "file_extension": ".py",
   "mimetype": "text/x-python",
   "name": "python",
   "nbconvert_exporter": "python",
   "pygments_lexer": "ipython3",
   "version": "3.10.7"
  },
  "orig_nbformat": 4
 },
 "nbformat": 4,
 "nbformat_minor": 2
}
