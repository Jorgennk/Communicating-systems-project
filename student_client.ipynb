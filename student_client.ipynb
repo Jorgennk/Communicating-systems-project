{
 "cells": [
  {
   "cell_type": "code",
   "execution_count": 1,
   "metadata": {},
   "outputs": [
    {
     "data": {
      "application/vnd.jupyter.widget-view+json": {
       "model_id": "f1c11be75e124f60bfced32b38254c3b",
       "version_major": 2,
       "version_minor": 0
      },
      "text/plain": [
       "Button(description='Join Session', style=ButtonStyle())"
      ]
     },
     "metadata": {},
     "output_type": "display_data"
    },
    {
     "data": {
      "application/vnd.jupyter.widget-view+json": {
       "model_id": "2db464c033db401b87fe22831f5e9b79",
       "version_major": 2,
       "version_minor": 0
      },
      "text/plain": [
       "Text(value='', description='student code:', placeholder='')"
      ]
     },
     "metadata": {},
     "output_type": "display_data"
    },
    {
     "data": {
      "application/vnd.jupyter.widget-view+json": {
       "model_id": "f1c11be75e124f60bfced32b38254c3b",
       "version_major": 2,
       "version_minor": 0
      },
      "text/plain": [
       "Button(description='Join Session', style=ButtonStyle())"
      ]
     },
     "metadata": {},
     "output_type": "display_data"
    },
    {
     "data": {
      "application/vnd.jupyter.widget-view+json": {
       "model_id": "4f9c711d5cd744acbc5f8e1c2ed2ff0c",
       "version_major": 2,
       "version_minor": 0
      },
      "text/plain": [
       "Text(value='', description='Group name:', placeholder='')"
      ]
     },
     "metadata": {},
     "output_type": "display_data"
    },
    {
     "name": "stderr",
     "output_type": "stream",
     "text": [
      "Exception in thread Thread-3 (_start_loop):\n",
      "Traceback (most recent call last):\n",
      "  File \"C:\\Users\\Bjorn\\AppData\\Local\\Programs\\Python\\Python310\\lib\\threading.py\", line 1016, in _bootstrap_inner\n",
      "    self.run()\n",
      "  File \"C:\\Users\\Bjorn\\AppData\\Local\\Programs\\Python\\Python310\\lib\\threading.py\", line 953, in run\n",
      "    self._target(*self._args, **self._kwargs)\n",
      "  File \"c:\\Users\\Bjorn\\Documents\\GitHub\\Communicating-systems-project\\venv\\lib\\site-packages\\stmpy\\__init__.py\", line 421, in _start_loop\n",
      "    self._execute_transition(stm=event['stm'],\n",
      "  File \"c:\\Users\\Bjorn\\Documents\\GitHub\\Communicating-systems-project\\venv\\lib\\site-packages\\stmpy\\__init__.py\", line 405, in _execute_transition\n",
      "    stm._execute_transition(event_id, args, kwargs)\n",
      "  File \"c:\\Users\\Bjorn\\Documents\\GitHub\\Communicating-systems-project\\venv\\lib\\site-packages\\stmpy\\__init__.py\", line 763, in _execute_transition\n",
      "    self._enter_state(target, args, kwargs)\n",
      "  File \"c:\\Users\\Bjorn\\Documents\\GitHub\\Communicating-systems-project\\venv\\lib\\site-packages\\stmpy\\__init__.py\", line 715, in _enter_state\n",
      "    self._run_actions(self._states[state].entry)\n",
      "  File \"c:\\Users\\Bjorn\\Documents\\GitHub\\Communicating-systems-project\\venv\\lib\\site-packages\\stmpy\\__init__.py\", line 694, in _run_actions\n",
      "    self._run_function(self._obj, action['name'], args, kwargs)\n",
      "  File \"c:\\Users\\Bjorn\\Documents\\GitHub\\Communicating-systems-project\\venv\\lib\\site-packages\\stmpy\\__init__.py\", line 648, in _run_function\n",
      "    func = getattr(obj, function_name)\n",
      "AttributeError: 'Student' object has no attribute 'in_idle'\n"
     ]
    },
    {
     "name": "stdout",
     "output_type": "stream",
     "text": [
      "Connectin to mqtt20.iik.ntnu.no:1883\n",
      "on_connect(): Connection Accepted.\n"
     ]
    }
   ],
   "source": [
    "from student_stm import STUDENT_STATES, STUDENT_TRANSITIONS\n",
    "from utils import BROKER, PORT\n",
    "from stmpy import Driver, Machine\n",
    "from student import Student, MQTT_Student_Client\n",
    "\n",
    "student = Student()\n",
    "state_machine = Machine(transitions=STUDENT_TRANSITIONS, states=STUDENT_STATES, obj=student, name=\"student\")\n",
    "student.stm = state_machine\n",
    "\n",
    "driver = Driver()\n",
    "driver.add_machine(state_machine)\n",
    "\n",
    "myclient = MQTT_Student_Client(student)\n",
    "student.mqtt_client = myclient.client\n",
    "myclient.stm_driver = driver\n",
    "\n",
    "driver.start()\n",
    "myclient.start(BROKER, PORT)"
   ]
  }
 ],
 "metadata": {
  "kernelspec": {
   "display_name": "venv",
   "language": "python",
   "name": "python3"
  },
  "language_info": {
   "codemirror_mode": {
    "name": "ipython",
    "version": 3
   },
   "file_extension": ".py",
   "mimetype": "text/x-python",
   "name": "python",
   "nbconvert_exporter": "python",
   "pygments_lexer": "ipython3",
   "version": "3.10.6"
  },
  "orig_nbformat": 4
 },
 "nbformat": 4,
 "nbformat_minor": 2
}
