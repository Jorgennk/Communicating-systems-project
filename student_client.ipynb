{
 "cells": [
  {
   "cell_type": "code",
   "execution_count": null,
   "metadata": {},
   "outputs": [],
   "source": [
    "from student_stm import STUDENT_STATES, STUDENT_TRANSITIONS\n",
    "from utils import BROKER, PORT\n",
    "from stmpy import Driver, Machine\n",
    "from student import Student, MQTT_Student_Client\n",
    "\n",
    "student = Student()\n",
    "state_machine = Machine(transitions=STUDENT_TRANSITIONS, states=STUDENT_STATES, obj=student, name=\"student\")\n",
    "student.stm = state_machine\n",
    "\n",
    "driver = Driver()\n",
    "driver.add_machine(state_machine)\n",
    "\n",
    "myclient = MQTT_Student_Client(student)\n",
    "student.mqtt_client = myclient.client\n",
    "myclient.stm_driver = driver\n",
    "\n",
    "driver.start()\n",
    "myclient.start(BROKER, PORT)"
   ]
  }
 ],
 "metadata": {
  "kernelspec": {
   "display_name": "venv",
   "language": "python",
   "name": "python3"
  },
  "language_info": {
   "codemirror_mode": {
    "name": "ipython",
    "version": 3
   },
   "file_extension": ".py",
   "mimetype": "text/x-python",
   "name": "python",
   "nbconvert_exporter": "python",
   "pygments_lexer": "ipython3",
   "version": "3.10.6"
  },
  "orig_nbformat": 4
 },
 "nbformat": 4,
 "nbformat_minor": 2
}
